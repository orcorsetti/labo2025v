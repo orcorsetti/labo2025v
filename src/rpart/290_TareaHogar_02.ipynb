{
  "nbformat": 4,
  "nbformat_minor": 0,
  "metadata": {
    "colab": {
      "provenance": [],
      "include_colab_link": true
    },
    "kernelspec": {
      "name": "ir",
      "display_name": "R"
    },
    "language_info": {
      "name": "R"
    }
  },
  "cells": [
    {
      "cell_type": "markdown",
      "metadata": {
        "id": "view-in-github",
        "colab_type": "text"
      },
      "source": [
        "<a href=\"https://colab.research.google.com/github/orcorsetti/labo2025v/blob/main/src/rpart/290_TareaHogar_02.ipynb\" target=\"_parent\"><img src=\"https://colab.research.google.com/assets/colab-badge.svg\" alt=\"Open In Colab\"/></a>"
      ]
    },
    {
      "cell_type": "markdown",
      "source": [
        "# Tarea para el Hogar 02"
      ],
      "metadata": {
        "id": "F3r8aa3pBigj"
      }
    },
    {
      "cell_type": "markdown",
      "source": [
        "Esta Tarea para el Hogar 02 se entrega el final de la segunda clase\n",
        "<br> se espera de usted que intente avanzar con los desafios propuestos y que los traiga terminados para la Clase 03, ya que se analizarán los resultados"
      ],
      "metadata": {
        "id": "nBm4ktHUBmZt"
      }
    },
    {
      "cell_type": "markdown",
      "source": [
        "##  1. Ensembles de Modelos"
      ],
      "metadata": {
        "id": "TK-M04ElCESC"
      }
    },
    {
      "cell_type": "markdown",
      "source": [
        "Vea el siguiente video [BBC - The Code - The Wisdom of the Crowd](https://www.youtube.com/watch?v=iOucwX7Z1HU)    ( 5 min)\n"
      ],
      "metadata": {
        "id": "biPYxgobCOSS"
      }
    },
    {
      "cell_type": "markdown",
      "source": [
        "Lea los siguientes artículos\n",
        "\n",
        "\n",
        "*   [The Wisdom of Crowds (Vox Populi) by Francis Galton](https://www.all-about-psychology.com/the-wisdom-of-crowds.html)  (10 min)\n",
        "*   [A Gentle Introduction to Ensemble Learning](https://machinelearningmastery.com/what-is-ensemble-learning/)  (10 min)\n",
        "\n"
      ],
      "metadata": {
        "id": "FBszBRyNCcjp"
      }
    },
    {
      "cell_type": "markdown",
      "source": [
        "\n",
        "\n",
        "---\n",
        "\n"
      ],
      "metadata": {
        "id": "x7SebtV2lpHQ"
      }
    },
    {
      "cell_type": "markdown",
      "source": [
        "##  2.  Zero2Hero   primera parte\n",
        "Se han lanzado los primeros fascículos coleccionables llamados \"from Zero to Hero\" que muy detalladamente, paso a paso enseñan todo lo necesario de R para entender los scripts oficiales de la asignatura.\n",
        "Están en el repositorio oficial de la asignatura, carpeta  **src/zero2hero**"
      ],
      "metadata": {
        "id": "NQcY8u2MDSLT"
      }
    },
    {
      "cell_type": "markdown",
      "source": [
        "\n",
        "\n",
        "---\n",
        "\n"
      ],
      "metadata": {
        "id": "GcO0OSiIEAGy"
      }
    },
    {
      "cell_type": "markdown",
      "source": [
        "## 3.  Grid Search"
      ],
      "metadata": {
        "id": "6MStcyn0EBdT"
      }
    },
    {
      "cell_type": "markdown",
      "source": [
        "Busque en internet el precido significado de los hiperparámetros de la librería **rpart**  que está implementando el algoritmo **CART**  Classification and Regression Trees  propuesto en el año 1984 por Leo Brieman:\n",
        "\n",
        "*   cp\n",
        "*   maxdepth\n",
        "*   minsplit\n",
        "*   minbucket\n",
        "\n",
        "Entienda que valores es razonable tome cada hiperparámetro,  en particular profundice en el hiperparámetro  **cp**  y la posibilidad que tome valores negativos.  Es válido consultar a su amigo de *capacidades especiales*  ChatGPT\n"
      ],
      "metadata": {
        "id": "gM8RKXDgEIY0"
      }
    },
    {
      "cell_type": "markdown",
      "source": [
        "En las siguientes celdas a un notebook incompleto, un esqueleto de codigo brindado a modo de facilitarle la tarea de codeo y permitir que su valiosa cognición se concentre temas conceptuales de Ciencia de Datos\n",
        "\n",
        "Modifiquelo agregando loops para que recorra TODOS los hiperparámetros de rpart  < cp, maxdepth, minsplit, minbucket >, y luego póngalo a correr. Recuerde cambiar por SU semilla\n",
        "Tenga muy presente la granularidad que eligirá para cada hiperparámetro."
      ],
      "metadata": {
        "id": "_k7eT3HIFy9y"
      }
    },
    {
      "cell_type": "markdown",
      "source": [
        "### Seteo del ambiente en Google Colab"
      ],
      "metadata": {
        "id": "kmLygy1TYPfg"
      }
    },
    {
      "cell_type": "markdown",
      "source": [
        "Esta parte se debe correr con el runtime en Python3\n",
        "<br>Ir al menu, Runtime -> Change Runtime Tipe -> Runtime type ->  **Python 3**"
      ],
      "metadata": {
        "id": "OikOm5K2YU3X"
      }
    },
    {
      "cell_type": "markdown",
      "source": [
        "Conectar la virtual machine donde esta corriendo Google Colab con el  Google Drive, para poder tener persistencia de archivos"
      ],
      "metadata": {
        "id": "4fmV5LyZdFyI"
      }
    },
    {
      "cell_type": "code",
      "source": [
        "# primero establecer el Runtime de Python 3\n",
        "from google.colab import drive\n",
        "drive.mount('/content/.drive')"
      ],
      "metadata": {
        "id": "ilEZ-bE2VybW",
        "outputId": "649a5292-555a-4035-a323-632e88d0d4a1",
        "colab": {
          "base_uri": "https://localhost:8080/"
        }
      },
      "execution_count": 1,
      "outputs": [
        {
          "output_type": "stream",
          "name": "stdout",
          "text": [
            "Drive already mounted at /content/.drive; to attempt to forcibly remount, call drive.mount(\"/content/.drive\", force_remount=True).\n"
          ]
        }
      ]
    },
    {
      "cell_type": "markdown",
      "source": [
        "Para correr la siguiente celda es fundamental en Arranque en Frio haber copiado el archivo kaggle.json al Google Drive, en la carpeta indicada en el instructivo\n",
        "\n",
        "<br>los siguientes comando estan en shell script de Linux\n",
        "*   Crear las carpetas en el Google Drive\n",
        "*   \"instalar\" el archivo kaggle.json desde el Google Drive a la virtual machine para que pueda ser utilizado por la libreria  kaggle de Python\n",
        "*   Bajar el  **dataset_pequeno**  al  Google Drive  y tambien al disco local de la virtual machine que esta corriendo Google Colab\n",
        "\n"
      ],
      "metadata": {
        "id": "ilaKtqWldeWg"
      }
    },
    {
      "cell_type": "code",
      "source": [
        "%%shell\n",
        "\n",
        "mkdir -p \"/content/.drive/My Drive/Posgrado/Austral/Master en Ciencia de Datos/Laboratorio de Implementacion I/labo1\"\n",
        "mkdir -p \"/content/buckets\"\n",
        "ln -s \"/content/.drive/My Drive/Posgrado/Austral/Master en Ciencia de Datos/Laboratorio de Implementacion I/labo1\" /content/buckets/b1\n",
        "\n",
        "mkdir -p ~/.kaggle\n",
        "cp /content/buckets/b1/kaggle/kaggle.json  ~/.kaggle\n",
        "chmod 600 ~/.kaggle/kaggle.json\n",
        "\n",
        "\n",
        "mkdir -p /content/buckets/b1/exp\n",
        "mkdir -p /content/buckets/b1/datasets\n",
        "mkdir -p /content/datasets\n",
        "\n",
        "\n",
        "\n",
        "archivo_origen=\"https://storage.googleapis.com/open-courses/austral2025-af91/dataset_pequeno.csv\"\n",
        "archivo_destino=\"/content/datasets/dataset_pequeno.csv\"\n",
        "archivo_destino_bucket=\"/content/buckets/b1/datasets/dataset_pequeno.csv\"\n",
        "\n",
        "if ! test -f $archivo_destino_bucket; then\n",
        "  wget  $archivo_origen  -O $archivo_destino_bucket\n",
        "fi\n",
        "\n",
        "\n",
        "if ! test -f $archivo_destino; then\n",
        "  cp  $archivo_destino_bucket  $archivo_destino\n",
        "fi\n",
        "\n"
      ],
      "metadata": {
        "id": "W8dQFI5QYCFa",
        "outputId": "ac1b9798-ea21-4aec-b389-fc367197aea7",
        "colab": {
          "base_uri": "https://localhost:8080/"
        }
      },
      "execution_count": 2,
      "outputs": [
        {
          "output_type": "execute_result",
          "data": {
            "text/plain": []
          },
          "metadata": {},
          "execution_count": 2
        }
      ]
    },
    {
      "cell_type": "markdown",
      "source": [
        "limpio el ambiente de R"
      ],
      "metadata": {
        "id": "SE94XRhWsxkX"
      }
    },
    {
      "cell_type": "code",
      "source": [
        "# limpio la memoria\n",
        "rm(list=ls(all.names=TRUE)) # remove all objects\n",
        "gc(full=TRUE, verbose=FALSE) # garbage collection"
      ],
      "metadata": {
        "id": "oZG_4br6szlT",
        "outputId": "8221c125-253d-4a46-a94c-2465bfd16825",
        "colab": {
          "base_uri": "https://localhost:8080/",
          "height": 129
        }
      },
      "execution_count": 31,
      "outputs": [
        {
          "output_type": "display_data",
          "data": {
            "text/html": [
              "<table class=\"dataframe\">\n",
              "<caption>A matrix: 2 × 6 of type dbl</caption>\n",
              "<thead>\n",
              "\t<tr><th></th><th scope=col>used</th><th scope=col>(Mb)</th><th scope=col>gc trigger</th><th scope=col>(Mb)</th><th scope=col>max used</th><th scope=col>(Mb)</th></tr>\n",
              "</thead>\n",
              "<tbody>\n",
              "\t<tr><th scope=row>Ncells</th><td> 786399</td><td>42.0</td><td> 1454485</td><td> 77.7</td><td> 1454485</td><td> 77.7</td></tr>\n",
              "\t<tr><th scope=row>Vcells</th><td>1466504</td><td>11.2</td><td>47154147</td><td>359.8</td><td>71035022</td><td>542.0</td></tr>\n",
              "</tbody>\n",
              "</table>\n"
            ],
            "text/markdown": "\nA matrix: 2 × 6 of type dbl\n\n| <!--/--> | used | (Mb) | gc trigger | (Mb) | max used | (Mb) |\n|---|---|---|---|---|---|---|\n| Ncells |  786399 | 42.0 |  1454485 |  77.7 |  1454485 |  77.7 |\n| Vcells | 1466504 | 11.2 | 47154147 | 359.8 | 71035022 | 542.0 |\n\n",
            "text/latex": "A matrix: 2 × 6 of type dbl\n\\begin{tabular}{r|llllll}\n  & used & (Mb) & gc trigger & (Mb) & max used & (Mb)\\\\\n\\hline\n\tNcells &  786399 & 42.0 &  1454485 &  77.7 &  1454485 &  77.7\\\\\n\tVcells & 1466504 & 11.2 & 47154147 & 359.8 & 71035022 & 542.0\\\\\n\\end{tabular}\n",
            "text/plain": [
              "       used    (Mb) gc trigger (Mb)  max used (Mb) \n",
              "Ncells  786399 42.0  1454485    77.7  1454485  77.7\n",
              "Vcells 1466504 11.2 47154147   359.8 71035022 542.0"
            ]
          },
          "metadata": {}
        }
      ]
    },
    {
      "cell_type": "code",
      "source": [
        "# cargo las librerias que necesito\n",
        "require(\"data.table\")\n",
        "require(\"rpart\")\n",
        "require(\"parallel\")\n",
        "if (!require(\"primes\")) install.packages(\"primes\")\n",
        "require(\"primes\")"
      ],
      "metadata": {
        "id": "JO-12d7YHkWy"
      },
      "execution_count": 32,
      "outputs": []
    },
    {
      "cell_type": "markdown",
      "source": [
        "Aqui debe poner SU semiila primigenia"
      ],
      "metadata": {
        "id": "0MclPEJ6Q8Bp"
      }
    },
    {
      "cell_type": "code",
      "source": [
        "PARAM <- list()\n",
        "# reemplazar por su primer semilla\n",
        "PARAM$semilla_primigenia <- 100183\n",
        "PARAM$qsemillas <- 1\n",
        "\n",
        "PARAM$training_pct <- 70L  # entre  1L y 99L\n",
        "\n",
        "# elegir SU dataset comentando/ descomentando\n",
        "PARAM$dataset_nom <- \"~/datasets/dataset_pequeno.csv\""
      ],
      "metadata": {
        "id": "Vt5fC6bWHu5r"
      },
      "execution_count": 33,
      "outputs": []
    },
    {
      "cell_type": "code",
      "source": [
        "# particionar agrega una columna llamada fold a un dataset\n",
        "#  que consiste en una particion estratificada segun agrupa\n",
        "# particionar( data=dataset, division=c(70,30), agrupa=clase_ternaria, seed=semilla)\n",
        "#   crea una particion 70, 30\n",
        "\n",
        "particionar <- function(data, division, agrupa = \"\", campo = \"fold\", start = 1, seed = NA) {\n",
        "  if (!is.na(seed)) set.seed(seed)\n",
        "\n",
        "  bloque <- unlist(mapply(function(x, y) {\n",
        "    rep(y, x)\n",
        "  }, division, seq(from = start, length.out = length(division))))\n",
        "\n",
        "  data[, (campo) := sample(rep(bloque, ceiling(.N / length(bloque))))[1:.N],\n",
        "    by = agrupa\n",
        "  ]\n",
        "}\n"
      ],
      "metadata": {
        "id": "Z1dchsrWH4MD"
      },
      "execution_count": 34,
      "outputs": []
    },
    {
      "cell_type": "code",
      "source": [
        "ArbolEstimarGanancia <- function(semilla, training_pct, param_basicos) {\n",
        "  # particiono estratificadamente el dataset\n",
        "  particionar(dataset,\n",
        "    division = c(training_pct, 100L -training_pct),\n",
        "    agrupa = \"clase_ternaria\",\n",
        "    seed = semilla # aqui se usa SU semilla\n",
        "  )\n",
        "\n",
        "  # genero el modelo\n",
        "  # predecir clase_ternaria a partir del resto\n",
        "  modelo <- rpart(\"clase_ternaria ~ .\",\n",
        "    data = dataset[fold == 1], # fold==1  es training,  el 70% de los datos\n",
        "    xval = 0,\n",
        "    control = param_basicos\n",
        "  ) # aqui van los parametros del arbol\n",
        "\n",
        "  # aplico el modelo a los datos de testing\n",
        "  prediccion <- predict(modelo, # el modelo que genere recien\n",
        "    dataset[fold == 2], # fold==2  es testing, el 30% de los datos\n",
        "    type = \"prob\"\n",
        "  ) # type= \"prob\"  es que devuelva la probabilidad\n",
        "\n",
        "  # prediccion es una matriz con TRES columnas,\n",
        "  #  llamadas \"BAJA+1\", \"BAJA+2\"  y \"CONTINUA\"\n",
        "  # cada columna es el vector de probabilidades\n",
        "\n",
        "\n",
        "  # calculo la ganancia en testing  qu es fold==2\n",
        "  ganancia_test <- dataset[\n",
        "    fold == 2,\n",
        "    sum(ifelse(prediccion[, \"BAJA+2\"] > 0.025,\n",
        "      ifelse(clase_ternaria == \"BAJA+2\", 117000, -3000),\n",
        "      0\n",
        "    ))\n",
        "  ]\n",
        "\n",
        "  # escalo la ganancia como si fuera todo el dataset\n",
        "  ganancia_test_normalizada <- ganancia_test / (( 100 - PARAM$training_pct ) / 100 )\n",
        "\n",
        "  return(\n",
        "    c( list(\"semilla\" = semilla),\n",
        "      param_basicos,\n",
        "      list( \"ganancia_test\" = ganancia_test_normalizada )\n",
        "     )\n",
        "  )\n",
        "}\n"
      ],
      "metadata": {
        "id": "xsHwS1CzIA70"
      },
      "execution_count": 35,
      "outputs": []
    },
    {
      "cell_type": "code",
      "source": [
        "ArbolesMontecarlo <- function(semillas, param_basicos) {\n",
        "\n",
        "  # la funcion mcmapply  llama a la funcion ArbolEstimarGanancia\n",
        "  #  tantas veces como valores tenga el vector  PARAM$semillas\n",
        "  salida <- mcmapply(ArbolEstimarGanancia,\n",
        "    semillas, # paso el vector de semillas\n",
        "    MoreArgs = list(PARAM$training_pct, param_basicos), # aqui paso el segundo parametro\n",
        "    SIMPLIFY = FALSE,\n",
        "    mc.cores = detectCores()\n",
        "  )\n",
        "\n",
        "  return(salida)\n",
        "}\n"
      ],
      "metadata": {
        "id": "BvBVOuhqIEjD"
      },
      "execution_count": 36,
      "outputs": []
    },
    {
      "cell_type": "code",
      "source": [
        "# carpeta de trabajo\n",
        "# por fabor cambiar numero de experimento si se cambia el loop principal\n",
        "setwd(\"/content/buckets/b1/exp\")\n",
        "experimento <- \"HT2900\"\n",
        "dir.create(experimento, showWarnings=FALSE)\n",
        "setwd( paste0(\"/content/buckets/b1/exp/\", experimento ))"
      ],
      "metadata": {
        "id": "L-DOGHOjIG7G"
      },
      "execution_count": 37,
      "outputs": []
    },
    {
      "cell_type": "code",
      "source": [
        "# lectura del dataset\n",
        "dataset <- fread(\"/content/datasets/dataset_pequeno.csv\")\n",
        "\n",
        "# trabajo solo con los datos con clase, es decir 202107\n",
        "dataset <- dataset[clase_ternaria != \"\"]"
      ],
      "metadata": {
        "id": "NM-mrLWcIPo6"
      },
      "execution_count": 38,
      "outputs": []
    },
    {
      "cell_type": "code",
      "source": [
        "\n",
        "# genero numeros primos\n",
        "primos <- generate_primes(min = 100000, max = 1000000)\n",
        "set.seed(PARAM$semilla_primigenia) # inicializo\n",
        "# me quedo con PARAM$qsemillas   semillas\n",
        "PARAM$semillas <- sample(primos, PARAM$qsemillas )\n"
      ],
      "metadata": {
        "id": "tSlY0EcgIWdi"
      },
      "execution_count": 39,
      "outputs": []
    },
    {
      "cell_type": "code",
      "source": [
        "# genero la data.table donde van los resultados detallados del Grid Search\n",
        "# un registro para cada combinacion de < semilla, parametros >\n",
        "\n",
        "if(file.exists(\"gridsearch_detalle.txt\")){\n",
        "  tb_grid_search_detalle <- fread(\"gridsearch_detalle.txt\")\n",
        "}else{\n",
        "  tb_grid_search_detalle <- data.table(\n",
        "    semilla = integer(),\n",
        "    cp = numeric(),\n",
        "    maxdepth = integer(),\n",
        "   minsplit = integer(),\n",
        "    minbucket = integer(),\n",
        "    ganancia_test = numeric()\n",
        "  )\n",
        "}\n",
        "\n",
        "nrow( tb_grid_search_detalle )"
      ],
      "metadata": {
        "id": "xxCAwIKyIaTl",
        "outputId": "e992543a-40b9-4481-e8ef-ae759d85bcdd",
        "colab": {
          "base_uri": "https://localhost:8080/",
          "height": 34
        }
      },
      "execution_count": 40,
      "outputs": [
        {
          "output_type": "display_data",
          "data": {
            "text/html": [
              "720"
            ],
            "text/markdown": "720",
            "text/latex": "720",
            "text/plain": [
              "[1] 720"
            ]
          },
          "metadata": {}
        }
      ]
    },
    {
      "cell_type": "markdown",
      "source": [
        "Esta es la parte del código que usted debe expandir a TODOS los hiperparámetros de rpart,\n",
        "<br>ya que actualmente apenas recorre  maxdepth y  minsplit  dejando fijos  cp=-0.5  y minbucket=5"
      ],
      "metadata": {
        "id": "eAuGBNL8IkOD"
      }
    },
    {
      "cell_type": "code",
      "source": [
        "\n",
        "# itero por los loops anidados para cada hiperparametro\n",
        "iter <- 0\n",
        "\n",
        "for (vmax_depth in c( 6, 5, 7, 8, 4)) {\n",
        "  for (vmin_split in c(50, 40 ,60, 30)) {\n",
        "    for (vcp in c(-0.5, 0.0000000000000001, 0.0000000000000000000000000000000001, 0.000000000000000000000000000000000000000000000000000001)) {\n",
        "        for (vminbucket in c(7, 3, 5, 4)) {\n",
        "\n",
        "        iter <- iter + 1\n",
        "        cat( iter, \" \" )\n",
        "        flush.console()\n",
        "        if( iter*PARAM$qsemillas < nrow(tb_grid_search_detalle)+1 ) next\n",
        "\n",
        "        # vminsplit  minima cantidad de registros en un nodo para hacer el split\n",
        "        param_basicos <- list(\n",
        "          \"cp\" = vcp, # complejidad minima\n",
        "          \"maxdepth\" = vmax_depth, # profundidad máxima del arbol\n",
        "          \"minsplit\" = vmin_split, # tamaño minimo de nodo para hacer split\n",
        "          \"minbucket\" = vminbucket # minima cantidad de registros en una hoja\n",
        "        )\n",
        "\n",
        "        # Un solo llamado, con la semilla 17\n",
        "        ganancias <- ArbolesMontecarlo(PARAM$semillas, param_basicos)\n",
        "\n",
        "        # agrego a la tabla\n",
        "        tb_grid_search_detalle <- rbindlist(\n",
        "          list( tb_grid_search_detalle,\n",
        "                rbindlist(ganancias) )\n",
        "        )\n",
        "      }\n",
        "    }\n",
        "  }\n",
        "\n",
        "  # grabo cada vez TODA la tabla en el loop mas externo\n",
        "  fwrite( tb_grid_search_detalle,\n",
        "          file = \"gridsearch_detalle.txt\",\n",
        "          sep = \"\\t\" )\n",
        "}\n"
      ],
      "metadata": {
        "id": "ipLHm3STIfmb",
        "outputId": "8089cf95-613e-4d61-8cca-7d2605ffc27a",
        "colab": {
          "base_uri": "https://localhost:8080/"
        }
      },
      "execution_count": 41,
      "outputs": [
        {
          "output_type": "stream",
          "name": "stdout",
          "text": [
            "1  2  3  4  5  6  7  8  9  10  11  12  13  14  15  16  17  18  19  20  21  22  23  24  25  26  27  28  29  30  31  32  33  34  35  36  37  38  39  40  41  42  43  44  45  46  47  48  49  50  51  52  53  54  55  56  57  58  59  60  61  62  63  64  65  66  67  68  69  70  71  72  73  74  75  76  77  78  79  80  81  82  83  84  85  86  87  88  89  90  91  92  93  94  95  96  97  98  99  100  101  102  103  104  105  106  107  108  109  110  111  112  113  114  115  116  117  118  119  120  121  122  123  124  125  126  127  128  129  130  131  132  133  134  135  136  137  138  139  140  141  142  143  144  145  146  147  148  149  150  151  152  153  154  155  156  157  158  159  160  161  162  163  164  165  166  167  168  169  170  171  172  173  174  175  176  177  178  179  180  181  182  183  184  185  186  187  188  189  190  191  192  193  194  195  196  197  198  199  200  201  202  203  204  205  206  207  208  209  210  211  212  213  214  215  216  217  218  219  220  221  222  223  224  225  226  227  228  229  230  231  232  233  234  235  236  237  238  239  240  241  242  243  244  245  246  247  248  249  250  251  252  253  254  255  256  257  258  259  260  261  262  263  264  265  266  267  268  269  270  271  272  273  274  275  276  277  278  279  280  281  282  283  284  285  286  287  288  289  290  291  292  293  294  295  296  297  298  299  300  301  302  303  304  305  306  307  308  309  310  311  312  313  314  315  316  317  318  319  320  "
          ]
        }
      ]
    },
    {
      "cell_type": "code",
      "source": [
        "fwrite( tb_grid_search_detalle,\n",
        "   file = \"gridsearch_detalle.txt\",\n",
        "   sep = \"\\t\"\n",
        ")"
      ],
      "metadata": {
        "id": "WZaSqYBxiDFu"
      },
      "execution_count": 42,
      "outputs": []
    },
    {
      "cell_type": "code",
      "source": [
        "# cantidad de registros de la tabla\n",
        "nrow(tb_grid_search_detalle)"
      ],
      "metadata": {
        "id": "STp0duM-RYVJ",
        "outputId": "552c932c-7b4f-46d0-f419-edb1132e5c0e",
        "colab": {
          "base_uri": "https://localhost:8080/",
          "height": 34
        }
      },
      "execution_count": 43,
      "outputs": [
        {
          "output_type": "display_data",
          "data": {
            "text/html": [
              "720"
            ],
            "text/markdown": "720",
            "text/latex": "720",
            "text/plain": [
              "[1] 720"
            ]
          },
          "metadata": {}
        }
      ]
    },
    {
      "cell_type": "code",
      "source": [
        "# muestro la tabla\n",
        "tb_grid_search_detalle"
      ],
      "metadata": {
        "id": "k7fhk_H0iNez",
        "outputId": "aeb59ca8-e20b-4cec-be69-fc2619ac82ac",
        "colab": {
          "base_uri": "https://localhost:8080/",
          "height": 1000
        }
      },
      "execution_count": 44,
      "outputs": [
        {
          "output_type": "display_data",
          "data": {
            "text/html": [
              "<table class=\"dataframe\">\n",
              "<caption>A data.table: 720 × 6</caption>\n",
              "<thead>\n",
              "\t<tr><th scope=col>semilla</th><th scope=col>cp</th><th scope=col>maxdepth</th><th scope=col>minsplit</th><th scope=col>minbucket</th><th scope=col>ganancia_test</th></tr>\n",
              "\t<tr><th scope=col>&lt;int&gt;</th><th scope=col>&lt;dbl&gt;</th><th scope=col>&lt;int&gt;</th><th scope=col>&lt;int&gt;</th><th scope=col>&lt;int&gt;</th><th scope=col>&lt;dbl&gt;</th></tr>\n",
              "</thead>\n",
              "<tbody>\n",
              "\t<tr><td>439853</td><td>-0.50</td><td>4</td><td>1000</td><td>3</td><td>46850000</td></tr>\n",
              "\t<tr><td>439853</td><td>-0.50</td><td>4</td><td>1000</td><td>5</td><td>46850000</td></tr>\n",
              "\t<tr><td>439853</td><td>-0.50</td><td>4</td><td>1000</td><td>7</td><td>46850000</td></tr>\n",
              "\t<tr><td>439853</td><td> 0.01</td><td>4</td><td>1000</td><td>3</td><td>       0</td></tr>\n",
              "\t<tr><td>439853</td><td> 0.01</td><td>4</td><td>1000</td><td>5</td><td>       0</td></tr>\n",
              "\t<tr><td>439853</td><td> 0.01</td><td>4</td><td>1000</td><td>7</td><td>       0</td></tr>\n",
              "\t<tr><td>439853</td><td> 0.50</td><td>4</td><td>1000</td><td>3</td><td>       0</td></tr>\n",
              "\t<tr><td>439853</td><td> 0.50</td><td>4</td><td>1000</td><td>5</td><td>       0</td></tr>\n",
              "\t<tr><td>439853</td><td> 0.50</td><td>4</td><td>1000</td><td>7</td><td>       0</td></tr>\n",
              "\t<tr><td>439853</td><td> 0.30</td><td>4</td><td>1000</td><td>3</td><td>       0</td></tr>\n",
              "\t<tr><td>439853</td><td> 0.30</td><td>4</td><td>1000</td><td>5</td><td>       0</td></tr>\n",
              "\t<tr><td>439853</td><td> 0.30</td><td>4</td><td>1000</td><td>7</td><td>       0</td></tr>\n",
              "\t<tr><td>439853</td><td>-0.50</td><td>4</td><td> 800</td><td>3</td><td>46850000</td></tr>\n",
              "\t<tr><td>439853</td><td>-0.50</td><td>4</td><td> 800</td><td>5</td><td>46850000</td></tr>\n",
              "\t<tr><td>439853</td><td>-0.50</td><td>4</td><td> 800</td><td>7</td><td>46850000</td></tr>\n",
              "\t<tr><td>439853</td><td> 0.01</td><td>4</td><td> 800</td><td>3</td><td>       0</td></tr>\n",
              "\t<tr><td>439853</td><td> 0.01</td><td>4</td><td> 800</td><td>5</td><td>       0</td></tr>\n",
              "\t<tr><td>439853</td><td> 0.01</td><td>4</td><td> 800</td><td>7</td><td>       0</td></tr>\n",
              "\t<tr><td>439853</td><td> 0.50</td><td>4</td><td> 800</td><td>3</td><td>       0</td></tr>\n",
              "\t<tr><td>439853</td><td> 0.50</td><td>4</td><td> 800</td><td>5</td><td>       0</td></tr>\n",
              "\t<tr><td>439853</td><td> 0.50</td><td>4</td><td> 800</td><td>7</td><td>       0</td></tr>\n",
              "\t<tr><td>439853</td><td> 0.30</td><td>4</td><td> 800</td><td>3</td><td>       0</td></tr>\n",
              "\t<tr><td>439853</td><td> 0.30</td><td>4</td><td> 800</td><td>5</td><td>       0</td></tr>\n",
              "\t<tr><td>439853</td><td> 0.30</td><td>4</td><td> 800</td><td>7</td><td>       0</td></tr>\n",
              "\t<tr><td>439853</td><td>-0.50</td><td>4</td><td> 600</td><td>3</td><td>46850000</td></tr>\n",
              "\t<tr><td>439853</td><td>-0.50</td><td>4</td><td> 600</td><td>5</td><td>46850000</td></tr>\n",
              "\t<tr><td>439853</td><td>-0.50</td><td>4</td><td> 600</td><td>7</td><td>46850000</td></tr>\n",
              "\t<tr><td>439853</td><td> 0.01</td><td>4</td><td> 600</td><td>3</td><td>       0</td></tr>\n",
              "\t<tr><td>439853</td><td> 0.01</td><td>4</td><td> 600</td><td>5</td><td>       0</td></tr>\n",
              "\t<tr><td>439853</td><td> 0.01</td><td>4</td><td> 600</td><td>7</td><td>       0</td></tr>\n",
              "\t<tr><td>⋮</td><td>⋮</td><td>⋮</td><td>⋮</td><td>⋮</td><td>⋮</td></tr>\n",
              "\t<tr><td>439853</td><td> 1.5e+00</td><td>20</td><td>200</td><td> 5</td><td>       0</td></tr>\n",
              "\t<tr><td>439853</td><td> 1.5e+00</td><td>20</td><td>200</td><td>11</td><td>       0</td></tr>\n",
              "\t<tr><td>439853</td><td> 2.0e+00</td><td>20</td><td>200</td><td> 7</td><td>       0</td></tr>\n",
              "\t<tr><td>439853</td><td> 2.0e+00</td><td>20</td><td>200</td><td> 9</td><td>       0</td></tr>\n",
              "\t<tr><td>439853</td><td> 2.0e+00</td><td>20</td><td>200</td><td> 5</td><td>       0</td></tr>\n",
              "\t<tr><td>439853</td><td> 2.0e+00</td><td>20</td><td>200</td><td>11</td><td>       0</td></tr>\n",
              "\t<tr><td>439853</td><td> 3.0e+00</td><td>20</td><td>200</td><td> 7</td><td>       0</td></tr>\n",
              "\t<tr><td>439853</td><td> 3.0e+00</td><td>20</td><td>200</td><td> 9</td><td>       0</td></tr>\n",
              "\t<tr><td>439853</td><td> 3.0e+00</td><td>20</td><td>200</td><td> 5</td><td>       0</td></tr>\n",
              "\t<tr><td>439853</td><td> 3.0e+00</td><td>20</td><td>200</td><td>11</td><td>       0</td></tr>\n",
              "\t<tr><td>439853</td><td>-1.0e-01</td><td> 6</td><td> 50</td><td> 7</td><td>45610000</td></tr>\n",
              "\t<tr><td>439853</td><td>-1.0e-01</td><td> 6</td><td> 50</td><td> 3</td><td>42820000</td></tr>\n",
              "\t<tr><td>439853</td><td>-1.0e-01</td><td> 6</td><td> 50</td><td> 5</td><td>44680000</td></tr>\n",
              "\t<tr><td>439853</td><td>-1.0e-01</td><td> 6</td><td> 50</td><td> 4</td><td>43230000</td></tr>\n",
              "\t<tr><td>439853</td><td> 1.0e-03</td><td> 6</td><td> 50</td><td> 7</td><td>40160000</td></tr>\n",
              "\t<tr><td>439853</td><td> 1.0e-03</td><td> 6</td><td> 50</td><td> 3</td><td>40160000</td></tr>\n",
              "\t<tr><td>439853</td><td> 1.0e-03</td><td> 6</td><td> 50</td><td> 5</td><td>40160000</td></tr>\n",
              "\t<tr><td>439853</td><td> 1.0e-03</td><td> 6</td><td> 50</td><td> 4</td><td>40160000</td></tr>\n",
              "\t<tr><td>439853</td><td> 1.0e-05</td><td> 6</td><td> 50</td><td> 7</td><td>46250000</td></tr>\n",
              "\t<tr><td>439853</td><td> 1.0e-05</td><td> 6</td><td> 50</td><td> 3</td><td>46300000</td></tr>\n",
              "\t<tr><td>439853</td><td> 1.0e-05</td><td> 6</td><td> 50</td><td> 5</td><td>46290000</td></tr>\n",
              "\t<tr><td>439853</td><td> 1.0e-05</td><td> 6</td><td> 50</td><td> 4</td><td>46290000</td></tr>\n",
              "\t<tr><td>439853</td><td> 1.0e-07</td><td> 6</td><td> 50</td><td> 7</td><td>46250000</td></tr>\n",
              "\t<tr><td>439853</td><td> 1.0e-07</td><td> 6</td><td> 50</td><td> 3</td><td>46300000</td></tr>\n",
              "\t<tr><td>439853</td><td> 1.0e-07</td><td> 6</td><td> 50</td><td> 5</td><td>46290000</td></tr>\n",
              "\t<tr><td>439853</td><td> 1.0e-07</td><td> 6</td><td> 50</td><td> 4</td><td>46290000</td></tr>\n",
              "\t<tr><td>439853</td><td> 1.0e-10</td><td> 6</td><td> 50</td><td> 7</td><td>46250000</td></tr>\n",
              "\t<tr><td>439853</td><td> 1.0e-10</td><td> 6</td><td> 50</td><td> 3</td><td>46300000</td></tr>\n",
              "\t<tr><td>439853</td><td> 1.0e-10</td><td> 6</td><td> 50</td><td> 5</td><td>46290000</td></tr>\n",
              "\t<tr><td>439853</td><td> 1.0e-10</td><td> 6</td><td> 50</td><td> 4</td><td>46290000</td></tr>\n",
              "</tbody>\n",
              "</table>\n"
            ],
            "text/markdown": "\nA data.table: 720 × 6\n\n| semilla &lt;int&gt; | cp &lt;dbl&gt; | maxdepth &lt;int&gt; | minsplit &lt;int&gt; | minbucket &lt;int&gt; | ganancia_test &lt;dbl&gt; |\n|---|---|---|---|---|---|\n| 439853 | -0.50 | 4 | 1000 | 3 | 46850000 |\n| 439853 | -0.50 | 4 | 1000 | 5 | 46850000 |\n| 439853 | -0.50 | 4 | 1000 | 7 | 46850000 |\n| 439853 |  0.01 | 4 | 1000 | 3 |        0 |\n| 439853 |  0.01 | 4 | 1000 | 5 |        0 |\n| 439853 |  0.01 | 4 | 1000 | 7 |        0 |\n| 439853 |  0.50 | 4 | 1000 | 3 |        0 |\n| 439853 |  0.50 | 4 | 1000 | 5 |        0 |\n| 439853 |  0.50 | 4 | 1000 | 7 |        0 |\n| 439853 |  0.30 | 4 | 1000 | 3 |        0 |\n| 439853 |  0.30 | 4 | 1000 | 5 |        0 |\n| 439853 |  0.30 | 4 | 1000 | 7 |        0 |\n| 439853 | -0.50 | 4 |  800 | 3 | 46850000 |\n| 439853 | -0.50 | 4 |  800 | 5 | 46850000 |\n| 439853 | -0.50 | 4 |  800 | 7 | 46850000 |\n| 439853 |  0.01 | 4 |  800 | 3 |        0 |\n| 439853 |  0.01 | 4 |  800 | 5 |        0 |\n| 439853 |  0.01 | 4 |  800 | 7 |        0 |\n| 439853 |  0.50 | 4 |  800 | 3 |        0 |\n| 439853 |  0.50 | 4 |  800 | 5 |        0 |\n| 439853 |  0.50 | 4 |  800 | 7 |        0 |\n| 439853 |  0.30 | 4 |  800 | 3 |        0 |\n| 439853 |  0.30 | 4 |  800 | 5 |        0 |\n| 439853 |  0.30 | 4 |  800 | 7 |        0 |\n| 439853 | -0.50 | 4 |  600 | 3 | 46850000 |\n| 439853 | -0.50 | 4 |  600 | 5 | 46850000 |\n| 439853 | -0.50 | 4 |  600 | 7 | 46850000 |\n| 439853 |  0.01 | 4 |  600 | 3 |        0 |\n| 439853 |  0.01 | 4 |  600 | 5 |        0 |\n| 439853 |  0.01 | 4 |  600 | 7 |        0 |\n| ⋮ | ⋮ | ⋮ | ⋮ | ⋮ | ⋮ |\n| 439853 |  1.5e+00 | 20 | 200 |  5 |        0 |\n| 439853 |  1.5e+00 | 20 | 200 | 11 |        0 |\n| 439853 |  2.0e+00 | 20 | 200 |  7 |        0 |\n| 439853 |  2.0e+00 | 20 | 200 |  9 |        0 |\n| 439853 |  2.0e+00 | 20 | 200 |  5 |        0 |\n| 439853 |  2.0e+00 | 20 | 200 | 11 |        0 |\n| 439853 |  3.0e+00 | 20 | 200 |  7 |        0 |\n| 439853 |  3.0e+00 | 20 | 200 |  9 |        0 |\n| 439853 |  3.0e+00 | 20 | 200 |  5 |        0 |\n| 439853 |  3.0e+00 | 20 | 200 | 11 |        0 |\n| 439853 | -1.0e-01 |  6 |  50 |  7 | 45610000 |\n| 439853 | -1.0e-01 |  6 |  50 |  3 | 42820000 |\n| 439853 | -1.0e-01 |  6 |  50 |  5 | 44680000 |\n| 439853 | -1.0e-01 |  6 |  50 |  4 | 43230000 |\n| 439853 |  1.0e-03 |  6 |  50 |  7 | 40160000 |\n| 439853 |  1.0e-03 |  6 |  50 |  3 | 40160000 |\n| 439853 |  1.0e-03 |  6 |  50 |  5 | 40160000 |\n| 439853 |  1.0e-03 |  6 |  50 |  4 | 40160000 |\n| 439853 |  1.0e-05 |  6 |  50 |  7 | 46250000 |\n| 439853 |  1.0e-05 |  6 |  50 |  3 | 46300000 |\n| 439853 |  1.0e-05 |  6 |  50 |  5 | 46290000 |\n| 439853 |  1.0e-05 |  6 |  50 |  4 | 46290000 |\n| 439853 |  1.0e-07 |  6 |  50 |  7 | 46250000 |\n| 439853 |  1.0e-07 |  6 |  50 |  3 | 46300000 |\n| 439853 |  1.0e-07 |  6 |  50 |  5 | 46290000 |\n| 439853 |  1.0e-07 |  6 |  50 |  4 | 46290000 |\n| 439853 |  1.0e-10 |  6 |  50 |  7 | 46250000 |\n| 439853 |  1.0e-10 |  6 |  50 |  3 | 46300000 |\n| 439853 |  1.0e-10 |  6 |  50 |  5 | 46290000 |\n| 439853 |  1.0e-10 |  6 |  50 |  4 | 46290000 |\n\n",
            "text/latex": "A data.table: 720 × 6\n\\begin{tabular}{llllll}\n semilla & cp & maxdepth & minsplit & minbucket & ganancia\\_test\\\\\n <int> & <dbl> & <int> & <int> & <int> & <dbl>\\\\\n\\hline\n\t 439853 & -0.50 & 4 & 1000 & 3 & 46850000\\\\\n\t 439853 & -0.50 & 4 & 1000 & 5 & 46850000\\\\\n\t 439853 & -0.50 & 4 & 1000 & 7 & 46850000\\\\\n\t 439853 &  0.01 & 4 & 1000 & 3 &        0\\\\\n\t 439853 &  0.01 & 4 & 1000 & 5 &        0\\\\\n\t 439853 &  0.01 & 4 & 1000 & 7 &        0\\\\\n\t 439853 &  0.50 & 4 & 1000 & 3 &        0\\\\\n\t 439853 &  0.50 & 4 & 1000 & 5 &        0\\\\\n\t 439853 &  0.50 & 4 & 1000 & 7 &        0\\\\\n\t 439853 &  0.30 & 4 & 1000 & 3 &        0\\\\\n\t 439853 &  0.30 & 4 & 1000 & 5 &        0\\\\\n\t 439853 &  0.30 & 4 & 1000 & 7 &        0\\\\\n\t 439853 & -0.50 & 4 &  800 & 3 & 46850000\\\\\n\t 439853 & -0.50 & 4 &  800 & 5 & 46850000\\\\\n\t 439853 & -0.50 & 4 &  800 & 7 & 46850000\\\\\n\t 439853 &  0.01 & 4 &  800 & 3 &        0\\\\\n\t 439853 &  0.01 & 4 &  800 & 5 &        0\\\\\n\t 439853 &  0.01 & 4 &  800 & 7 &        0\\\\\n\t 439853 &  0.50 & 4 &  800 & 3 &        0\\\\\n\t 439853 &  0.50 & 4 &  800 & 5 &        0\\\\\n\t 439853 &  0.50 & 4 &  800 & 7 &        0\\\\\n\t 439853 &  0.30 & 4 &  800 & 3 &        0\\\\\n\t 439853 &  0.30 & 4 &  800 & 5 &        0\\\\\n\t 439853 &  0.30 & 4 &  800 & 7 &        0\\\\\n\t 439853 & -0.50 & 4 &  600 & 3 & 46850000\\\\\n\t 439853 & -0.50 & 4 &  600 & 5 & 46850000\\\\\n\t 439853 & -0.50 & 4 &  600 & 7 & 46850000\\\\\n\t 439853 &  0.01 & 4 &  600 & 3 &        0\\\\\n\t 439853 &  0.01 & 4 &  600 & 5 &        0\\\\\n\t 439853 &  0.01 & 4 &  600 & 7 &        0\\\\\n\t ⋮ & ⋮ & ⋮ & ⋮ & ⋮ & ⋮\\\\\n\t 439853 &  1.5e+00 & 20 & 200 &  5 &        0\\\\\n\t 439853 &  1.5e+00 & 20 & 200 & 11 &        0\\\\\n\t 439853 &  2.0e+00 & 20 & 200 &  7 &        0\\\\\n\t 439853 &  2.0e+00 & 20 & 200 &  9 &        0\\\\\n\t 439853 &  2.0e+00 & 20 & 200 &  5 &        0\\\\\n\t 439853 &  2.0e+00 & 20 & 200 & 11 &        0\\\\\n\t 439853 &  3.0e+00 & 20 & 200 &  7 &        0\\\\\n\t 439853 &  3.0e+00 & 20 & 200 &  9 &        0\\\\\n\t 439853 &  3.0e+00 & 20 & 200 &  5 &        0\\\\\n\t 439853 &  3.0e+00 & 20 & 200 & 11 &        0\\\\\n\t 439853 & -1.0e-01 &  6 &  50 &  7 & 45610000\\\\\n\t 439853 & -1.0e-01 &  6 &  50 &  3 & 42820000\\\\\n\t 439853 & -1.0e-01 &  6 &  50 &  5 & 44680000\\\\\n\t 439853 & -1.0e-01 &  6 &  50 &  4 & 43230000\\\\\n\t 439853 &  1.0e-03 &  6 &  50 &  7 & 40160000\\\\\n\t 439853 &  1.0e-03 &  6 &  50 &  3 & 40160000\\\\\n\t 439853 &  1.0e-03 &  6 &  50 &  5 & 40160000\\\\\n\t 439853 &  1.0e-03 &  6 &  50 &  4 & 40160000\\\\\n\t 439853 &  1.0e-05 &  6 &  50 &  7 & 46250000\\\\\n\t 439853 &  1.0e-05 &  6 &  50 &  3 & 46300000\\\\\n\t 439853 &  1.0e-05 &  6 &  50 &  5 & 46290000\\\\\n\t 439853 &  1.0e-05 &  6 &  50 &  4 & 46290000\\\\\n\t 439853 &  1.0e-07 &  6 &  50 &  7 & 46250000\\\\\n\t 439853 &  1.0e-07 &  6 &  50 &  3 & 46300000\\\\\n\t 439853 &  1.0e-07 &  6 &  50 &  5 & 46290000\\\\\n\t 439853 &  1.0e-07 &  6 &  50 &  4 & 46290000\\\\\n\t 439853 &  1.0e-10 &  6 &  50 &  7 & 46250000\\\\\n\t 439853 &  1.0e-10 &  6 &  50 &  3 & 46300000\\\\\n\t 439853 &  1.0e-10 &  6 &  50 &  5 & 46290000\\\\\n\t 439853 &  1.0e-10 &  6 &  50 &  4 & 46290000\\\\\n\\end{tabular}\n",
            "text/plain": [
              "    semilla cp       maxdepth minsplit minbucket ganancia_test\n",
              "1   439853  -0.50    4        1000     3         46850000     \n",
              "2   439853  -0.50    4        1000     5         46850000     \n",
              "3   439853  -0.50    4        1000     7         46850000     \n",
              "4   439853   0.01    4        1000     3                0     \n",
              "5   439853   0.01    4        1000     5                0     \n",
              "6   439853   0.01    4        1000     7                0     \n",
              "7   439853   0.50    4        1000     3                0     \n",
              "8   439853   0.50    4        1000     5                0     \n",
              "9   439853   0.50    4        1000     7                0     \n",
              "10  439853   0.30    4        1000     3                0     \n",
              "11  439853   0.30    4        1000     5                0     \n",
              "12  439853   0.30    4        1000     7                0     \n",
              "13  439853  -0.50    4         800     3         46850000     \n",
              "14  439853  -0.50    4         800     5         46850000     \n",
              "15  439853  -0.50    4         800     7         46850000     \n",
              "16  439853   0.01    4         800     3                0     \n",
              "17  439853   0.01    4         800     5                0     \n",
              "18  439853   0.01    4         800     7                0     \n",
              "19  439853   0.50    4         800     3                0     \n",
              "20  439853   0.50    4         800     5                0     \n",
              "21  439853   0.50    4         800     7                0     \n",
              "22  439853   0.30    4         800     3                0     \n",
              "23  439853   0.30    4         800     5                0     \n",
              "24  439853   0.30    4         800     7                0     \n",
              "25  439853  -0.50    4         600     3         46850000     \n",
              "26  439853  -0.50    4         600     5         46850000     \n",
              "27  439853  -0.50    4         600     7         46850000     \n",
              "28  439853   0.01    4         600     3                0     \n",
              "29  439853   0.01    4         600     5                0     \n",
              "30  439853   0.01    4         600     7                0     \n",
              "⋮   ⋮       ⋮        ⋮        ⋮        ⋮         ⋮            \n",
              "691 439853   1.5e+00 20       200       5               0     \n",
              "692 439853   1.5e+00 20       200      11               0     \n",
              "693 439853   2.0e+00 20       200       7               0     \n",
              "694 439853   2.0e+00 20       200       9               0     \n",
              "695 439853   2.0e+00 20       200       5               0     \n",
              "696 439853   2.0e+00 20       200      11               0     \n",
              "697 439853   3.0e+00 20       200       7               0     \n",
              "698 439853   3.0e+00 20       200       9               0     \n",
              "699 439853   3.0e+00 20       200       5               0     \n",
              "700 439853   3.0e+00 20       200      11               0     \n",
              "701 439853  -1.0e-01  6        50       7        45610000     \n",
              "702 439853  -1.0e-01  6        50       3        42820000     \n",
              "703 439853  -1.0e-01  6        50       5        44680000     \n",
              "704 439853  -1.0e-01  6        50       4        43230000     \n",
              "705 439853   1.0e-03  6        50       7        40160000     \n",
              "706 439853   1.0e-03  6        50       3        40160000     \n",
              "707 439853   1.0e-03  6        50       5        40160000     \n",
              "708 439853   1.0e-03  6        50       4        40160000     \n",
              "709 439853   1.0e-05  6        50       7        46250000     \n",
              "710 439853   1.0e-05  6        50       3        46300000     \n",
              "711 439853   1.0e-05  6        50       5        46290000     \n",
              "712 439853   1.0e-05  6        50       4        46290000     \n",
              "713 439853   1.0e-07  6        50       7        46250000     \n",
              "714 439853   1.0e-07  6        50       3        46300000     \n",
              "715 439853   1.0e-07  6        50       5        46290000     \n",
              "716 439853   1.0e-07  6        50       4        46290000     \n",
              "717 439853   1.0e-10  6        50       7        46250000     \n",
              "718 439853   1.0e-10  6        50       3        46300000     \n",
              "719 439853   1.0e-10  6        50       5        46290000     \n",
              "720 439853   1.0e-10  6        50       4        46290000     "
            ]
          },
          "metadata": {}
        }
      ]
    },
    {
      "cell_type": "code",
      "source": [
        "# genero y grabo el resumen\n",
        "tb_grid_search <- tb_grid_search_detalle[,\n",
        "  list( \"ganancia_mean\" = mean(ganancia_test),\n",
        "    \"qty\" = .N ),\n",
        "  list( cp, maxdepth, minsplit, minbucket )\n",
        "]\n"
      ],
      "metadata": {
        "id": "DjCxtx8bIsgl"
      },
      "execution_count": 45,
      "outputs": []
    },
    {
      "cell_type": "code",
      "source": [
        "# ordeno descendente por ganancia\n",
        "setorder( tb_grid_search, -ganancia_mean )\n"
      ],
      "metadata": {
        "id": "LU29UhL1Ivg5"
      },
      "execution_count": 46,
      "outputs": []
    },
    {
      "cell_type": "code",
      "source": [
        "# veo los 10 mejores hiperparámetros\n",
        "tb_grid_search[1:10]"
      ],
      "metadata": {
        "id": "g-EjGY7aIyWL",
        "outputId": "81cb83f3-6cf9-4501-ee63-44f039bc9736",
        "colab": {
          "base_uri": "https://localhost:8080/",
          "height": 412
        }
      },
      "execution_count": 47,
      "outputs": [
        {
          "output_type": "display_data",
          "data": {
            "text/html": [
              "<table class=\"dataframe\">\n",
              "<caption>A data.table: 10 × 6</caption>\n",
              "<thead>\n",
              "\t<tr><th scope=col>cp</th><th scope=col>maxdepth</th><th scope=col>minsplit</th><th scope=col>minbucket</th><th scope=col>ganancia_mean</th><th scope=col>qty</th></tr>\n",
              "\t<tr><th scope=col>&lt;dbl&gt;</th><th scope=col>&lt;int&gt;</th><th scope=col>&lt;int&gt;</th><th scope=col>&lt;int&gt;</th><th scope=col>&lt;dbl&gt;</th><th scope=col>&lt;int&gt;</th></tr>\n",
              "</thead>\n",
              "<tbody>\n",
              "\t<tr><td>-0.5</td><td>12</td><td> 200</td><td>7</td><td>49960000</td><td>1</td></tr>\n",
              "\t<tr><td>-0.5</td><td> 8</td><td> 200</td><td>7</td><td>49870000</td><td>1</td></tr>\n",
              "\t<tr><td>-0.5</td><td> 8</td><td>1000</td><td>7</td><td>49850000</td><td>1</td></tr>\n",
              "\t<tr><td>-0.5</td><td> 8</td><td> 800</td><td>7</td><td>49850000</td><td>1</td></tr>\n",
              "\t<tr><td>-0.5</td><td> 8</td><td> 600</td><td>7</td><td>49850000</td><td>1</td></tr>\n",
              "\t<tr><td>-0.5</td><td> 8</td><td> 400</td><td>7</td><td>49850000</td><td>1</td></tr>\n",
              "\t<tr><td>-0.5</td><td>12</td><td> 600</td><td>3</td><td>49760000</td><td>1</td></tr>\n",
              "\t<tr><td>-0.5</td><td>12</td><td> 200</td><td>5</td><td>49560000</td><td>1</td></tr>\n",
              "\t<tr><td>-0.5</td><td>10</td><td>1000</td><td>7</td><td>49540000</td><td>1</td></tr>\n",
              "\t<tr><td>-0.5</td><td>10</td><td> 800</td><td>7</td><td>49520000</td><td>1</td></tr>\n",
              "</tbody>\n",
              "</table>\n"
            ],
            "text/markdown": "\nA data.table: 10 × 6\n\n| cp &lt;dbl&gt; | maxdepth &lt;int&gt; | minsplit &lt;int&gt; | minbucket &lt;int&gt; | ganancia_mean &lt;dbl&gt; | qty &lt;int&gt; |\n|---|---|---|---|---|---|\n| -0.5 | 12 |  200 | 7 | 49960000 | 1 |\n| -0.5 |  8 |  200 | 7 | 49870000 | 1 |\n| -0.5 |  8 | 1000 | 7 | 49850000 | 1 |\n| -0.5 |  8 |  800 | 7 | 49850000 | 1 |\n| -0.5 |  8 |  600 | 7 | 49850000 | 1 |\n| -0.5 |  8 |  400 | 7 | 49850000 | 1 |\n| -0.5 | 12 |  600 | 3 | 49760000 | 1 |\n| -0.5 | 12 |  200 | 5 | 49560000 | 1 |\n| -0.5 | 10 | 1000 | 7 | 49540000 | 1 |\n| -0.5 | 10 |  800 | 7 | 49520000 | 1 |\n\n",
            "text/latex": "A data.table: 10 × 6\n\\begin{tabular}{llllll}\n cp & maxdepth & minsplit & minbucket & ganancia\\_mean & qty\\\\\n <dbl> & <int> & <int> & <int> & <dbl> & <int>\\\\\n\\hline\n\t -0.5 & 12 &  200 & 7 & 49960000 & 1\\\\\n\t -0.5 &  8 &  200 & 7 & 49870000 & 1\\\\\n\t -0.5 &  8 & 1000 & 7 & 49850000 & 1\\\\\n\t -0.5 &  8 &  800 & 7 & 49850000 & 1\\\\\n\t -0.5 &  8 &  600 & 7 & 49850000 & 1\\\\\n\t -0.5 &  8 &  400 & 7 & 49850000 & 1\\\\\n\t -0.5 & 12 &  600 & 3 & 49760000 & 1\\\\\n\t -0.5 & 12 &  200 & 5 & 49560000 & 1\\\\\n\t -0.5 & 10 & 1000 & 7 & 49540000 & 1\\\\\n\t -0.5 & 10 &  800 & 7 & 49520000 & 1\\\\\n\\end{tabular}\n",
            "text/plain": [
              "   cp   maxdepth minsplit minbucket ganancia_mean qty\n",
              "1  -0.5 12        200     7         49960000      1  \n",
              "2  -0.5  8        200     7         49870000      1  \n",
              "3  -0.5  8       1000     7         49850000      1  \n",
              "4  -0.5  8        800     7         49850000      1  \n",
              "5  -0.5  8        600     7         49850000      1  \n",
              "6  -0.5  8        400     7         49850000      1  \n",
              "7  -0.5 12        600     3         49760000      1  \n",
              "8  -0.5 12        200     5         49560000      1  \n",
              "9  -0.5 10       1000     7         49540000      1  \n",
              "10 -0.5 10        800     7         49520000      1  "
            ]
          },
          "metadata": {}
        }
      ]
    },
    {
      "cell_type": "code",
      "source": [
        "# genero un id a la tabla\n",
        "tb_grid_search[, id := .I ]\n",
        "\n",
        "fwrite( tb_grid_search,\n",
        "  file = \"gridsearch.txt\",\n",
        "  sep = \"\\t\"\n",
        ")\n"
      ],
      "metadata": {
        "id": "K3S-I2PTI5ZE"
      },
      "execution_count": 29,
      "outputs": []
    },
    {
      "cell_type": "markdown",
      "source": [
        "# 4.  Análisis de resultados de Grid Search"
      ],
      "metadata": {
        "id": "1rYHk1YkI_9k"
      }
    },
    {
      "cell_type": "markdown",
      "source": [
        "La salida de la corrida anterior queda en ~/buckets/b1/exp/HT2900  que corresponde a su Google Drive\n",
        "<br>HT significa Hyperparameter Tuning\n",
        "<br>El Grid Search es un método de fuerza bruta de un altísimo costo computacional.\n",
        "<br>Queremos ver si es posible crear un algoritmo de optimización de hiperparámetros que se ahorre recorrer ciertas porciones muy malas del espacio de búsqueda. Algo del estilo “cada vez que pruebo una combinación de hiperparámetros donde  cp > 1 , la ganancia es muy mala, con lo cual ni vale la pena perder el tiempo explorando en esa region”\n"
      ],
      "metadata": {
        "id": "ZTJgPhMWJHTk"
      }
    },
    {
      "cell_type": "markdown",
      "source": [
        "<br>Levante el archivo de salida gridsearch.txt  a una planilla tipo Excel y analícelo detenidamente\n",
        "<br>Ordene por ganancia_mean descendente\n",
        "<br>\n",
        "<br>El de mayor ganancia_mean  decimos que es el primero del ranking\n",
        "En Zulip, correspondiente channel  #Tarea Hogar 02 , topic Analisis Grid Search   intente contestar estas preguntas:\n",
        "\n",
        "* ¿Qué combinaciones de hiperparámetros poseen una ganancia muy buena?\n",
        "* ¿Hay algun hiperparámetro que para cierto valor siempre genera una ganancia muy mala, a independientemente de lo que valgan los otros hiperparámetros ?\n",
        "* ¿Que combinaciones de hiperparámetros es pésima y hubiera sido bueno ahorrarse esas corridas ?\n",
        "\n",
        "( tiempo estimado 30 minutos, dificultad media )"
      ],
      "metadata": {
        "id": "IaVgMu4tPwyB"
      }
    }
  ]
}