{
  "nbformat": 4,
  "nbformat_minor": 0,
  "metadata": {
    "colab": {
      "provenance": [],
      "include_colab_link": true
    },
    "kernelspec": {
      "name": "python3",
      "display_name": "Python 3"
    },
    "language_info": {
      "name": "python"
    }
  },
  "cells": [
    {
      "cell_type": "markdown",
      "metadata": {
        "id": "view-in-github",
        "colab_type": "text"
      },
      "source": [
        "<a href=\"https://colab.research.google.com/github/orcorsetti/labo2025v/blob/main/src/rpart/290_TareaHogar_02.ipynb\" target=\"_parent\"><img src=\"https://colab.research.google.com/assets/colab-badge.svg\" alt=\"Open In Colab\"/></a>"
      ]
    },
    {
      "cell_type": "markdown",
      "source": [
        "# Tarea para el Hogar 02"
      ],
      "metadata": {
        "id": "F3r8aa3pBigj"
      }
    },
    {
      "cell_type": "markdown",
      "source": [
        "Esta Tarea para el Hogar 02 se entrega el final de la segunda clase\n",
        "<br> se espera de usted que intente avanzar con los desafios propuestos y que los traiga terminados para la Clase 03, ya que se analizarán los resultados"
      ],
      "metadata": {
        "id": "nBm4ktHUBmZt"
      }
    },
    {
      "cell_type": "markdown",
      "source": [
        "##  1. Ensembles de Modelos"
      ],
      "metadata": {
        "id": "TK-M04ElCESC"
      }
    },
    {
      "cell_type": "markdown",
      "source": [
        "Vea el siguiente video [BBC - The Code - The Wisdom of the Crowd](https://www.youtube.com/watch?v=iOucwX7Z1HU)    ( 5 min)\n"
      ],
      "metadata": {
        "id": "biPYxgobCOSS"
      }
    },
    {
      "cell_type": "markdown",
      "source": [
        "Lea los siguientes artículos\n",
        "\n",
        "\n",
        "*   [The Wisdom of Crowds (Vox Populi) by Francis Galton](https://www.all-about-psychology.com/the-wisdom-of-crowds.html)  (10 min)\n",
        "*   [A Gentle Introduction to Ensemble Learning](https://machinelearningmastery.com/what-is-ensemble-learning/)  (10 min)\n",
        "\n"
      ],
      "metadata": {
        "id": "FBszBRyNCcjp"
      }
    },
    {
      "cell_type": "markdown",
      "source": [
        "\n",
        "\n",
        "---\n",
        "\n"
      ],
      "metadata": {
        "id": "x7SebtV2lpHQ"
      }
    },
    {
      "cell_type": "markdown",
      "source": [
        "##  2.  Zero2Hero   primera parte\n",
        "Se han lanzado los primeros fascículos coleccionables llamados \"from Zero to Hero\" que muy detalladamente, paso a paso enseñan todo lo necesario de R para entender los scripts oficiales de la asignatura.\n",
        "Están en el repositorio oficial de la asignatura, carpeta  **src/zero2hero**"
      ],
      "metadata": {
        "id": "NQcY8u2MDSLT"
      }
    },
    {
      "cell_type": "markdown",
      "source": [
        "\n",
        "\n",
        "---\n",
        "\n"
      ],
      "metadata": {
        "id": "GcO0OSiIEAGy"
      }
    },
    {
      "cell_type": "markdown",
      "source": [
        "## 3.  Grid Search"
      ],
      "metadata": {
        "id": "6MStcyn0EBdT"
      }
    },
    {
      "cell_type": "markdown",
      "source": [
        "Busque en internet el precido significado de los hiperparámetros de la librería **rpart**  que está implementando el algoritmo **CART**  Classification and Regression Trees  propuesto en el año 1984 por Leo Brieman:\n",
        "\n",
        "*   cp\n",
        "*   maxdepth\n",
        "*   minsplit\n",
        "*   minbucket\n",
        "\n",
        "Entienda que valores es razonable tome cada hiperparámetro,  en particular profundice en el hiperparámetro  **cp**  y la posibilidad que tome valores negativos.  Es válido consultar a su amigo de *capacidades especiales*  ChatGPT\n"
      ],
      "metadata": {
        "id": "gM8RKXDgEIY0"
      }
    },
    {
      "cell_type": "markdown",
      "source": [
        "En las siguientes celdas a un notebook incompleto, un esqueleto de codigo brindado a modo de facilitarle la tarea de codeo y permitir que su valiosa cognición se concentre temas conceptuales de Ciencia de Datos\n",
        "\n",
        "Modifiquelo agregando loops para que recorra TODOS los hiperparámetros de rpart  < cp, maxdepth, minsplit, minbucket >, y luego póngalo a correr. Recuerde cambiar por SU semilla\n",
        "Tenga muy presente la granularidad que eligirá para cada hiperparámetro."
      ],
      "metadata": {
        "id": "_k7eT3HIFy9y"
      }
    },
    {
      "cell_type": "markdown",
      "source": [
        "### Seteo del ambiente en Google Colab"
      ],
      "metadata": {
        "id": "kmLygy1TYPfg"
      }
    },
    {
      "cell_type": "markdown",
      "source": [
        "Esta parte se debe correr con el runtime en Python3\n",
        "<br>Ir al menu, Runtime -> Change Runtime Tipe -> Runtime type ->  **Python 3**"
      ],
      "metadata": {
        "id": "OikOm5K2YU3X"
      }
    },
    {
      "cell_type": "markdown",
      "source": [
        "Conectar la virtual machine donde esta corriendo Google Colab con el  Google Drive, para poder tener persistencia de archivos"
      ],
      "metadata": {
        "id": "4fmV5LyZdFyI"
      }
    },
    {
      "cell_type": "code",
      "source": [
        "# primero establecer el Runtime de Python 3\n",
        "from google.colab import drive\n",
        "drive.mount('/content/.drive')"
      ],
      "metadata": {
        "id": "ilEZ-bE2VybW"
      },
      "execution_count": null,
      "outputs": []
    },
    {
      "cell_type": "markdown",
      "source": [
        "Para correr la siguiente celda es fundamental en Arranque en Frio haber copiado el archivo kaggle.json al Google Drive, en la carpeta indicada en el instructivo\n",
        "\n",
        "<br>los siguientes comando estan en shell script de Linux\n",
        "*   Crear las carpetas en el Google Drive\n",
        "*   \"instalar\" el archivo kaggle.json desde el Google Drive a la virtual machine para que pueda ser utilizado por la libreria  kaggle de Python\n",
        "*   Bajar el  **dataset_pequeno**  al  Google Drive  y tambien al disco local de la virtual machine que esta corriendo Google Colab\n",
        "\n"
      ],
      "metadata": {
        "id": "ilaKtqWldeWg"
      }
    },
    {
      "cell_type": "code",
      "source": [
        "%%shell\n",
        "\n",
        "mkdir -p \"/content/.drive/My Drive/Posgrado/Austral/Master en Ciencia de Datos/Laboratorio de Implementacion I/labo1\"\n",
        "mkdir -p \"/content/buckets\"\n",
        "ln -s \"/content/.drive/My Drive/Posgrado/Austral/Master en Ciencia de Datos/Laboratorio de Implementacion I/labo1\" /content/buckets/b1\n",
        "\n",
        "mkdir -p ~/.kaggle\n",
        "cp /content/buckets/b1/kaggle/kaggle.json  ~/.kaggle\n",
        "chmod 600 ~/.kaggle/kaggle.json\n",
        "\n",
        "\n",
        "mkdir -p /content/buckets/b1/exp\n",
        "mkdir -p /content/buckets/b1/datasets\n",
        "mkdir -p /content/datasets\n",
        "\n",
        "\n",
        "\n",
        "archivo_origen=\"https://storage.googleapis.com/open-courses/austral2025-af91/dataset_pequeno.csv\"\n",
        "archivo_destino=\"/content/datasets/dataset_pequeno.csv\"\n",
        "archivo_destino_bucket=\"/content/buckets/b1/datasets/dataset_pequeno.csv\"\n",
        "\n",
        "if ! test -f $archivo_destino_bucket; then\n",
        "  wget  $archivo_origen  -O $archivo_destino_bucket\n",
        "fi\n",
        "\n",
        "\n",
        "if ! test -f $archivo_destino; then\n",
        "  cp  $archivo_destino_bucket  $archivo_destino\n",
        "fi\n",
        "\n"
      ],
      "metadata": {
        "id": "W8dQFI5QYCFa"
      },
      "execution_count": null,
      "outputs": []
    },
    {
      "cell_type": "markdown",
      "source": [
        "limpio el ambiente de R"
      ],
      "metadata": {
        "id": "SE94XRhWsxkX"
      }
    },
    {
      "cell_type": "code",
      "source": [
        "# limpio la memoria\n",
        "rm(list=ls(all.names=TRUE)) # remove all objects\n",
        "gc(full=TRUE, verbose=FALSE) # garbage collection"
      ],
      "metadata": {
        "id": "oZG_4br6szlT",
        "outputId": "b649cb45-90d5-4a24-9c87-017fd721fced",
        "colab": {
          "base_uri": "https://localhost:8080/",
          "height": 129
        }
      },
      "execution_count": 1,
      "outputs": [
        {
          "output_type": "display_data",
          "data": {
            "text/html": [
              "<table class=\"dataframe\">\n",
              "<caption>A matrix: 2 × 6 of type dbl</caption>\n",
              "<thead>\n",
              "\t<tr><th></th><th scope=col>used</th><th scope=col>(Mb)</th><th scope=col>gc trigger</th><th scope=col>(Mb)</th><th scope=col>max used</th><th scope=col>(Mb)</th></tr>\n",
              "</thead>\n",
              "<tbody>\n",
              "\t<tr><th scope=row>Ncells</th><td> 657245</td><td>35.2</td><td>1454471</td><td>77.7</td><td>1326126</td><td>70.9</td></tr>\n",
              "\t<tr><th scope=row>Vcells</th><td>1220272</td><td> 9.4</td><td>8388608</td><td>64.0</td><td>1975127</td><td>15.1</td></tr>\n",
              "</tbody>\n",
              "</table>\n"
            ],
            "text/markdown": "\nA matrix: 2 × 6 of type dbl\n\n| <!--/--> | used | (Mb) | gc trigger | (Mb) | max used | (Mb) |\n|---|---|---|---|---|---|---|\n| Ncells |  657245 | 35.2 | 1454471 | 77.7 | 1326126 | 70.9 |\n| Vcells | 1220272 |  9.4 | 8388608 | 64.0 | 1975127 | 15.1 |\n\n",
            "text/latex": "A matrix: 2 × 6 of type dbl\n\\begin{tabular}{r|llllll}\n  & used & (Mb) & gc trigger & (Mb) & max used & (Mb)\\\\\n\\hline\n\tNcells &  657245 & 35.2 & 1454471 & 77.7 & 1326126 & 70.9\\\\\n\tVcells & 1220272 &  9.4 & 8388608 & 64.0 & 1975127 & 15.1\\\\\n\\end{tabular}\n",
            "text/plain": [
              "       used    (Mb) gc trigger (Mb) max used (Mb)\n",
              "Ncells  657245 35.2 1454471    77.7 1326126  70.9\n",
              "Vcells 1220272  9.4 8388608    64.0 1975127  15.1"
            ]
          },
          "metadata": {}
        }
      ]
    },
    {
      "cell_type": "code",
      "source": [
        "# cargo las librerias que necesito\n",
        "require(\"data.table\")\n",
        "require(\"rpart\")\n",
        "require(\"parallel\")\n",
        "if (!require(\"primes\")) install.packages(\"primes\")\n",
        "require(\"primes\")"
      ],
      "metadata": {
        "id": "JO-12d7YHkWy",
        "outputId": "ffb1fdb6-c9b3-47ba-cc29-3e9c1c080134",
        "colab": {
          "base_uri": "https://localhost:8080/"
        }
      },
      "execution_count": 2,
      "outputs": [
        {
          "output_type": "stream",
          "name": "stderr",
          "text": [
            "Loading required package: data.table\n",
            "\n",
            "Loading required package: rpart\n",
            "\n",
            "Loading required package: parallel\n",
            "\n",
            "Loading required package: primes\n",
            "\n",
            "Warning message in library(package, lib.loc = lib.loc, character.only = TRUE, logical.return = TRUE, :\n",
            "“there is no package called ‘primes’”\n",
            "Installing package into ‘/usr/local/lib/R/site-library’\n",
            "(as ‘lib’ is unspecified)\n",
            "\n",
            "Loading required package: primes\n",
            "\n"
          ]
        }
      ]
    },
    {
      "cell_type": "markdown",
      "source": [
        "Aqui debe poner SU semiila primigenia"
      ],
      "metadata": {
        "id": "0MclPEJ6Q8Bp"
      }
    },
    {
      "cell_type": "code",
      "source": [
        "PARAM <- list()\n",
        "# reemplazar por su primer semilla\n",
        "PARAM$semilla_primigenia <- 100183\n",
        "PARAM$qsemillas <- 1\n",
        "\n",
        "PARAM$training_pct <- 70L  # entre  1L y 99L\n",
        "\n",
        "# elegir SU dataset comentando/ descomentando\n",
        "PARAM$dataset_nom <- \"~/datasets/dataset_pequeno.csv\""
      ],
      "metadata": {
        "id": "Vt5fC6bWHu5r"
      },
      "execution_count": 3,
      "outputs": []
    },
    {
      "cell_type": "code",
      "source": [
        "# particionar agrega una columna llamada fold a un dataset\n",
        "#  que consiste en una particion estratificada segun agrupa\n",
        "# particionar( data=dataset, division=c(70,30), agrupa=clase_ternaria, seed=semilla)\n",
        "#   crea una particion 70, 30\n",
        "\n",
        "particionar <- function(data, division, agrupa = \"\", campo = \"fold\", start = 1, seed = NA) {\n",
        "  if (!is.na(seed)) set.seed(seed)\n",
        "\n",
        "  bloque <- unlist(mapply(function(x, y) {\n",
        "    rep(y, x)\n",
        "  }, division, seq(from = start, length.out = length(division))))\n",
        "\n",
        "  data[, (campo) := sample(rep(bloque, ceiling(.N / length(bloque))))[1:.N],\n",
        "    by = agrupa\n",
        "  ]\n",
        "}\n"
      ],
      "metadata": {
        "id": "Z1dchsrWH4MD"
      },
      "execution_count": 4,
      "outputs": []
    },
    {
      "cell_type": "code",
      "source": [
        "ArbolEstimarGanancia <- function(semilla, training_pct, param_basicos) {\n",
        "  # particiono estratificadamente el dataset\n",
        "  particionar(dataset,\n",
        "    division = c(training_pct, 100L -training_pct),\n",
        "    agrupa = \"clase_ternaria\",\n",
        "    seed = semilla # aqui se usa SU semilla\n",
        "  )\n",
        "\n",
        "  # genero el modelo\n",
        "  # predecir clase_ternaria a partir del resto\n",
        "  modelo <- rpart(\"clase_ternaria ~ .\",\n",
        "    data = dataset[fold == 1], # fold==1  es training,  el 70% de los datos\n",
        "    xval = 0,\n",
        "    control = param_basicos\n",
        "  ) # aqui van los parametros del arbol\n",
        "\n",
        "  # aplico el modelo a los datos de testing\n",
        "  prediccion <- predict(modelo, # el modelo que genere recien\n",
        "    dataset[fold == 2], # fold==2  es testing, el 30% de los datos\n",
        "    type = \"prob\"\n",
        "  ) # type= \"prob\"  es que devuelva la probabilidad\n",
        "\n",
        "  # prediccion es una matriz con TRES columnas,\n",
        "  #  llamadas \"BAJA+1\", \"BAJA+2\"  y \"CONTINUA\"\n",
        "  # cada columna es el vector de probabilidades\n",
        "\n",
        "\n",
        "  # calculo la ganancia en testing  qu es fold==2\n",
        "  ganancia_test <- dataset[\n",
        "    fold == 2,\n",
        "    sum(ifelse(prediccion[, \"BAJA+2\"] > 0.025,\n",
        "      ifelse(clase_ternaria == \"BAJA+2\", 117000, -3000),\n",
        "      0\n",
        "    ))\n",
        "  ]\n",
        "\n",
        "  # escalo la ganancia como si fuera todo el dataset\n",
        "  ganancia_test_normalizada <- ganancia_test / (( 100 - PARAM$training_pct ) / 100 )\n",
        "\n",
        "  return(\n",
        "    c( list(\"semilla\" = semilla),\n",
        "      param_basicos,\n",
        "      list( \"ganancia_test\" = ganancia_test_normalizada )\n",
        "     )\n",
        "  )\n",
        "}\n"
      ],
      "metadata": {
        "id": "xsHwS1CzIA70"
      },
      "execution_count": 5,
      "outputs": []
    },
    {
      "cell_type": "code",
      "source": [
        "ArbolesMontecarlo <- function(semillas, param_basicos) {\n",
        "\n",
        "  # la funcion mcmapply  llama a la funcion ArbolEstimarGanancia\n",
        "  #  tantas veces como valores tenga el vector  PARAM$semillas\n",
        "  salida <- mcmapply(ArbolEstimarGanancia,\n",
        "    semillas, # paso el vector de semillas\n",
        "    MoreArgs = list(PARAM$training_pct, param_basicos), # aqui paso el segundo parametro\n",
        "    SIMPLIFY = FALSE,\n",
        "    mc.cores = detectCores()\n",
        "  )\n",
        "\n",
        "  return(salida)\n",
        "}\n"
      ],
      "metadata": {
        "id": "BvBVOuhqIEjD"
      },
      "execution_count": 9,
      "outputs": []
    },
    {
      "cell_type": "code",
      "source": [
        "# carpeta de trabajo\n",
        "# por fabor cambiar numero de experimento si se cambia el loop principal\n",
        "setwd(\"/content/buckets/b1/exp\")\n",
        "experimento <- \"HT2900\"\n",
        "dir.create(experimento, showWarnings=FALSE)\n",
        "setwd( paste0(\"/content/buckets/b1/exp/\", experimento ))"
      ],
      "metadata": {
        "id": "L-DOGHOjIG7G",
        "outputId": "cf64ec7e-ed18-4f51-f141-e41363c77e19",
        "colab": {
          "base_uri": "https://localhost:8080/",
          "height": 228
        }
      },
      "execution_count": 10,
      "outputs": [
        {
          "output_type": "error",
          "ename": "ERROR",
          "evalue": "Error in setwd(\"/content/buckets/b1/exp\"): cannot change working directory\n",
          "traceback": [
            "Error in setwd(\"/content/buckets/b1/exp\"): cannot change working directory\nTraceback:\n",
            "1. .handleSimpleError(function (cnd) \n . {\n .     watcher$capture_plot_and_output()\n .     cnd <- sanitize_call(cnd)\n .     watcher$push(cnd)\n .     switch(on_error, continue = invokeRestart(\"eval_continue\"), \n .         stop = invokeRestart(\"eval_stop\"), error = NULL)\n . }, \"cannot change working directory\", base::quote(setwd(\"/content/buckets/b1/exp\")))"
          ]
        }
      ]
    },
    {
      "cell_type": "code",
      "source": [
        "# lectura del dataset\n",
        "dataset <- fread(\"/content/datasets/dataset_pequeno.csv\")\n",
        "\n",
        "# trabajo solo con los datos con clase, es decir 202107\n",
        "dataset <- dataset[clase_ternaria != \"\"]"
      ],
      "metadata": {
        "id": "NM-mrLWcIPo6"
      },
      "execution_count": null,
      "outputs": []
    },
    {
      "cell_type": "code",
      "source": [
        "\n",
        "# genero numeros primos\n",
        "primos <- generate_primes(min = 100000, max = 1000000)\n",
        "set.seed(PARAM$semilla_primigenia) # inicializo\n",
        "# me quedo con PARAM$qsemillas   semillas\n",
        "PARAM$semillas <- sample(primos, PARAM$qsemillas )\n"
      ],
      "metadata": {
        "id": "tSlY0EcgIWdi"
      },
      "execution_count": null,
      "outputs": []
    },
    {
      "cell_type": "code",
      "source": [
        "# genero la data.table donde van los resultados detallados del Grid Search\n",
        "# un registro para cada combinacion de < semilla, parametros >\n",
        "\n",
        "if(file.exists(\"gridsearch_detalle.txt\")){\n",
        "  tb_grid_search_detalle <- fread(\"gridsearch_detalle.txt\")\n",
        "}else{\n",
        "  tb_grid_search_detalle <- data.table(\n",
        "    semilla = integer(),\n",
        "    cp = numeric(),\n",
        "    maxdepth = integer(),\n",
        "   minsplit = integer(),\n",
        "    minbucket = integer(),\n",
        "    ganancia_test = numeric()\n",
        "  )\n",
        "}\n",
        "\n",
        "nrow( tb_grid_search_detalle )"
      ],
      "metadata": {
        "id": "xxCAwIKyIaTl"
      },
      "execution_count": null,
      "outputs": []
    },
    {
      "cell_type": "markdown",
      "source": [
        "Esta es la parte del código que usted debe expandir a TODOS los hiperparámetros de rpart,\n",
        "<br>ya que actualmente apenas recorre  maxdepth y  minsplit  dejando fijos  cp=-0.5  y minbucket=5"
      ],
      "metadata": {
        "id": "eAuGBNL8IkOD"
      }
    },
    {
      "cell_type": "code",
      "source": [
        "\n",
        "# itero por los loops anidados para cada hiperparametro\n",
        "iter <- 0\n",
        "\n",
        "for (vmax_depth in c( 6, 5, 7, 8, 4)) {\n",
        "  for (vmin_split in c(50, 40 ,60, 30)) {\n",
        "    for (vcp in c(-0.5, 0.0000000001, 0.000000000001, 0.0000000000000000001)) {\n",
        "        for (vminbucket in c(7, 3, 5, 4)) {\n",
        "\n",
        "        iter <- iter + 1\n",
        "        cat( iter, \" \" )\n",
        "        flush.console()\n",
        "        if( iter*PARAM$qsemillas < nrow(tb_grid_search_detalle)+1 ) next\n",
        "\n",
        "        # vminsplit  minima cantidad de registros en un nodo para hacer el split\n",
        "        param_basicos <- list(\n",
        "          \"cp\" = vcp, # complejidad minima\n",
        "          \"maxdepth\" = vmax_depth, # profundidad máxima del arbol\n",
        "          \"minsplit\" = vmin_split, # tamaño minimo de nodo para hacer split\n",
        "          \"minbucket\" = vminbucket # minima cantidad de registros en una hoja\n",
        "        )\n",
        "\n",
        "        # Un solo llamado, con la semilla 17\n",
        "        ganancias <- ArbolesMontecarlo(PARAM$semillas, param_basicos)\n",
        "\n",
        "        # agrego a la tabla\n",
        "        tb_grid_search_detalle <- rbindlist(\n",
        "          list( tb_grid_search_detalle,\n",
        "                rbindlist(ganancias) )\n",
        "        )\n",
        "      }\n",
        "    }\n",
        "  }\n",
        "\n",
        "  # grabo cada vez TODA la tabla en el loop mas externo\n",
        "  fwrite( tb_grid_search_detalle,\n",
        "          file = \"gridsearch_detalle.txt\",\n",
        "          sep = \"\\t\" )\n",
        "}\n"
      ],
      "metadata": {
        "id": "ipLHm3STIfmb"
      },
      "execution_count": null,
      "outputs": []
    },
    {
      "cell_type": "code",
      "source": [
        "fwrite( tb_grid_search_detalle,\n",
        "   file = \"gridsearch_detalle.txt\",\n",
        "   sep = \"\\t\"\n",
        ")"
      ],
      "metadata": {
        "id": "WZaSqYBxiDFu"
      },
      "execution_count": null,
      "outputs": []
    },
    {
      "cell_type": "code",
      "source": [
        "# cantidad de registros de la tabla\n",
        "nrow(tb_grid_search_detalle)"
      ],
      "metadata": {
        "id": "STp0duM-RYVJ",
        "outputId": "915d6f04-f8f9-420f-879d-61e8e91f7d0b",
        "colab": {
          "base_uri": "https://localhost:8080/",
          "height": 34
        }
      },
      "execution_count": null,
      "outputs": [
        {
          "output_type": "display_data",
          "data": {
            "text/html": [
              "648"
            ],
            "text/markdown": "648",
            "text/latex": "648",
            "text/plain": [
              "[1] 648"
            ]
          },
          "metadata": {}
        }
      ]
    },
    {
      "cell_type": "code",
      "source": [
        "# muestro la tabla\n",
        "tb_grid_search_detalle"
      ],
      "metadata": {
        "id": "k7fhk_H0iNez",
        "outputId": "72953f83-54fc-4b39-f920-ce88091e4806",
        "colab": {
          "base_uri": "https://localhost:8080/",
          "height": 1000
        }
      },
      "execution_count": null,
      "outputs": [
        {
          "output_type": "display_data",
          "data": {
            "text/html": [
              "<table class=\"dataframe\">\n",
              "<caption>A data.table: 648 × 6</caption>\n",
              "<thead>\n",
              "\t<tr><th scope=col>semilla</th><th scope=col>cp</th><th scope=col>maxdepth</th><th scope=col>minsplit</th><th scope=col>minbucket</th><th scope=col>ganancia_test</th></tr>\n",
              "\t<tr><th scope=col>&lt;int&gt;</th><th scope=col>&lt;dbl&gt;</th><th scope=col>&lt;dbl&gt;</th><th scope=col>&lt;dbl&gt;</th><th scope=col>&lt;dbl&gt;</th><th scope=col>&lt;dbl&gt;</th></tr>\n",
              "</thead>\n",
              "<tbody>\n",
              "\t<tr><td>439853</td><td>-0.50</td><td>4</td><td>1000</td><td>3</td><td>46850000</td></tr>\n",
              "\t<tr><td>439853</td><td>-0.50</td><td>4</td><td>1000</td><td>5</td><td>46850000</td></tr>\n",
              "\t<tr><td>439853</td><td>-0.50</td><td>4</td><td>1000</td><td>7</td><td>46850000</td></tr>\n",
              "\t<tr><td>439853</td><td> 0.01</td><td>4</td><td>1000</td><td>3</td><td>       0</td></tr>\n",
              "\t<tr><td>439853</td><td> 0.01</td><td>4</td><td>1000</td><td>5</td><td>       0</td></tr>\n",
              "\t<tr><td>439853</td><td> 0.01</td><td>4</td><td>1000</td><td>7</td><td>       0</td></tr>\n",
              "\t<tr><td>439853</td><td> 0.50</td><td>4</td><td>1000</td><td>3</td><td>       0</td></tr>\n",
              "\t<tr><td>439853</td><td> 0.50</td><td>4</td><td>1000</td><td>5</td><td>       0</td></tr>\n",
              "\t<tr><td>439853</td><td> 0.50</td><td>4</td><td>1000</td><td>7</td><td>       0</td></tr>\n",
              "\t<tr><td>439853</td><td> 0.30</td><td>4</td><td>1000</td><td>3</td><td>       0</td></tr>\n",
              "\t<tr><td>439853</td><td> 0.30</td><td>4</td><td>1000</td><td>5</td><td>       0</td></tr>\n",
              "\t<tr><td>439853</td><td> 0.30</td><td>4</td><td>1000</td><td>7</td><td>       0</td></tr>\n",
              "\t<tr><td>439853</td><td>-0.50</td><td>4</td><td> 800</td><td>3</td><td>46850000</td></tr>\n",
              "\t<tr><td>439853</td><td>-0.50</td><td>4</td><td> 800</td><td>5</td><td>46850000</td></tr>\n",
              "\t<tr><td>439853</td><td>-0.50</td><td>4</td><td> 800</td><td>7</td><td>46850000</td></tr>\n",
              "\t<tr><td>439853</td><td> 0.01</td><td>4</td><td> 800</td><td>3</td><td>       0</td></tr>\n",
              "\t<tr><td>439853</td><td> 0.01</td><td>4</td><td> 800</td><td>5</td><td>       0</td></tr>\n",
              "\t<tr><td>439853</td><td> 0.01</td><td>4</td><td> 800</td><td>7</td><td>       0</td></tr>\n",
              "\t<tr><td>439853</td><td> 0.50</td><td>4</td><td> 800</td><td>3</td><td>       0</td></tr>\n",
              "\t<tr><td>439853</td><td> 0.50</td><td>4</td><td> 800</td><td>5</td><td>       0</td></tr>\n",
              "\t<tr><td>439853</td><td> 0.50</td><td>4</td><td> 800</td><td>7</td><td>       0</td></tr>\n",
              "\t<tr><td>439853</td><td> 0.30</td><td>4</td><td> 800</td><td>3</td><td>       0</td></tr>\n",
              "\t<tr><td>439853</td><td> 0.30</td><td>4</td><td> 800</td><td>5</td><td>       0</td></tr>\n",
              "\t<tr><td>439853</td><td> 0.30</td><td>4</td><td> 800</td><td>7</td><td>       0</td></tr>\n",
              "\t<tr><td>439853</td><td>-0.50</td><td>4</td><td> 600</td><td>3</td><td>46850000</td></tr>\n",
              "\t<tr><td>439853</td><td>-0.50</td><td>4</td><td> 600</td><td>5</td><td>46850000</td></tr>\n",
              "\t<tr><td>439853</td><td>-0.50</td><td>4</td><td> 600</td><td>7</td><td>46850000</td></tr>\n",
              "\t<tr><td>439853</td><td> 0.01</td><td>4</td><td> 600</td><td>3</td><td>       0</td></tr>\n",
              "\t<tr><td>439853</td><td> 0.01</td><td>4</td><td> 600</td><td>5</td><td>       0</td></tr>\n",
              "\t<tr><td>439853</td><td> 0.01</td><td>4</td><td> 600</td><td>7</td><td>       0</td></tr>\n",
              "\t<tr><td>⋮</td><td>⋮</td><td>⋮</td><td>⋮</td><td>⋮</td><td>⋮</td></tr>\n",
              "\t<tr><td>439853</td><td> 0.50</td><td>14</td><td>50</td><td>3</td><td>       0</td></tr>\n",
              "\t<tr><td>439853</td><td> 0.50</td><td>14</td><td>50</td><td>5</td><td>       0</td></tr>\n",
              "\t<tr><td>439853</td><td> 0.50</td><td>14</td><td>50</td><td>7</td><td>       0</td></tr>\n",
              "\t<tr><td>439853</td><td> 0.30</td><td>14</td><td>50</td><td>3</td><td>       0</td></tr>\n",
              "\t<tr><td>439853</td><td> 0.30</td><td>14</td><td>50</td><td>5</td><td>       0</td></tr>\n",
              "\t<tr><td>439853</td><td> 0.30</td><td>14</td><td>50</td><td>7</td><td>       0</td></tr>\n",
              "\t<tr><td>439853</td><td>-0.50</td><td>14</td><td>20</td><td>3</td><td>31540000</td></tr>\n",
              "\t<tr><td>439853</td><td>-0.50</td><td>14</td><td>20</td><td>5</td><td>30480000</td></tr>\n",
              "\t<tr><td>439853</td><td>-0.50</td><td>14</td><td>20</td><td>7</td><td>34930000</td></tr>\n",
              "\t<tr><td>439853</td><td> 0.01</td><td>14</td><td>20</td><td>3</td><td>       0</td></tr>\n",
              "\t<tr><td>439853</td><td> 0.01</td><td>14</td><td>20</td><td>5</td><td>       0</td></tr>\n",
              "\t<tr><td>439853</td><td> 0.01</td><td>14</td><td>20</td><td>7</td><td>       0</td></tr>\n",
              "\t<tr><td>439853</td><td> 0.50</td><td>14</td><td>20</td><td>3</td><td>       0</td></tr>\n",
              "\t<tr><td>439853</td><td> 0.50</td><td>14</td><td>20</td><td>5</td><td>       0</td></tr>\n",
              "\t<tr><td>439853</td><td> 0.50</td><td>14</td><td>20</td><td>7</td><td>       0</td></tr>\n",
              "\t<tr><td>439853</td><td> 0.30</td><td>14</td><td>20</td><td>3</td><td>       0</td></tr>\n",
              "\t<tr><td>439853</td><td> 0.30</td><td>14</td><td>20</td><td>5</td><td>       0</td></tr>\n",
              "\t<tr><td>439853</td><td> 0.30</td><td>14</td><td>20</td><td>7</td><td>       0</td></tr>\n",
              "\t<tr><td>439853</td><td>-0.50</td><td>14</td><td>10</td><td>3</td><td>26870000</td></tr>\n",
              "\t<tr><td>439853</td><td>-0.50</td><td>14</td><td>10</td><td>5</td><td>25060000</td></tr>\n",
              "\t<tr><td>439853</td><td>-0.50</td><td>14</td><td>10</td><td>7</td><td>31380000</td></tr>\n",
              "\t<tr><td>439853</td><td> 0.01</td><td>14</td><td>10</td><td>3</td><td>       0</td></tr>\n",
              "\t<tr><td>439853</td><td> 0.01</td><td>14</td><td>10</td><td>5</td><td>       0</td></tr>\n",
              "\t<tr><td>439853</td><td> 0.01</td><td>14</td><td>10</td><td>7</td><td>       0</td></tr>\n",
              "\t<tr><td>439853</td><td> 0.50</td><td>14</td><td>10</td><td>3</td><td>       0</td></tr>\n",
              "\t<tr><td>439853</td><td> 0.50</td><td>14</td><td>10</td><td>5</td><td>       0</td></tr>\n",
              "\t<tr><td>439853</td><td> 0.50</td><td>14</td><td>10</td><td>7</td><td>       0</td></tr>\n",
              "\t<tr><td>439853</td><td> 0.30</td><td>14</td><td>10</td><td>3</td><td>       0</td></tr>\n",
              "\t<tr><td>439853</td><td> 0.30</td><td>14</td><td>10</td><td>5</td><td>       0</td></tr>\n",
              "\t<tr><td>439853</td><td> 0.30</td><td>14</td><td>10</td><td>7</td><td>       0</td></tr>\n",
              "</tbody>\n",
              "</table>\n"
            ],
            "text/markdown": "\nA data.table: 648 × 6\n\n| semilla &lt;int&gt; | cp &lt;dbl&gt; | maxdepth &lt;dbl&gt; | minsplit &lt;dbl&gt; | minbucket &lt;dbl&gt; | ganancia_test &lt;dbl&gt; |\n|---|---|---|---|---|---|\n| 439853 | -0.50 | 4 | 1000 | 3 | 46850000 |\n| 439853 | -0.50 | 4 | 1000 | 5 | 46850000 |\n| 439853 | -0.50 | 4 | 1000 | 7 | 46850000 |\n| 439853 |  0.01 | 4 | 1000 | 3 |        0 |\n| 439853 |  0.01 | 4 | 1000 | 5 |        0 |\n| 439853 |  0.01 | 4 | 1000 | 7 |        0 |\n| 439853 |  0.50 | 4 | 1000 | 3 |        0 |\n| 439853 |  0.50 | 4 | 1000 | 5 |        0 |\n| 439853 |  0.50 | 4 | 1000 | 7 |        0 |\n| 439853 |  0.30 | 4 | 1000 | 3 |        0 |\n| 439853 |  0.30 | 4 | 1000 | 5 |        0 |\n| 439853 |  0.30 | 4 | 1000 | 7 |        0 |\n| 439853 | -0.50 | 4 |  800 | 3 | 46850000 |\n| 439853 | -0.50 | 4 |  800 | 5 | 46850000 |\n| 439853 | -0.50 | 4 |  800 | 7 | 46850000 |\n| 439853 |  0.01 | 4 |  800 | 3 |        0 |\n| 439853 |  0.01 | 4 |  800 | 5 |        0 |\n| 439853 |  0.01 | 4 |  800 | 7 |        0 |\n| 439853 |  0.50 | 4 |  800 | 3 |        0 |\n| 439853 |  0.50 | 4 |  800 | 5 |        0 |\n| 439853 |  0.50 | 4 |  800 | 7 |        0 |\n| 439853 |  0.30 | 4 |  800 | 3 |        0 |\n| 439853 |  0.30 | 4 |  800 | 5 |        0 |\n| 439853 |  0.30 | 4 |  800 | 7 |        0 |\n| 439853 | -0.50 | 4 |  600 | 3 | 46850000 |\n| 439853 | -0.50 | 4 |  600 | 5 | 46850000 |\n| 439853 | -0.50 | 4 |  600 | 7 | 46850000 |\n| 439853 |  0.01 | 4 |  600 | 3 |        0 |\n| 439853 |  0.01 | 4 |  600 | 5 |        0 |\n| 439853 |  0.01 | 4 |  600 | 7 |        0 |\n| ⋮ | ⋮ | ⋮ | ⋮ | ⋮ | ⋮ |\n| 439853 |  0.50 | 14 | 50 | 3 |        0 |\n| 439853 |  0.50 | 14 | 50 | 5 |        0 |\n| 439853 |  0.50 | 14 | 50 | 7 |        0 |\n| 439853 |  0.30 | 14 | 50 | 3 |        0 |\n| 439853 |  0.30 | 14 | 50 | 5 |        0 |\n| 439853 |  0.30 | 14 | 50 | 7 |        0 |\n| 439853 | -0.50 | 14 | 20 | 3 | 31540000 |\n| 439853 | -0.50 | 14 | 20 | 5 | 30480000 |\n| 439853 | -0.50 | 14 | 20 | 7 | 34930000 |\n| 439853 |  0.01 | 14 | 20 | 3 |        0 |\n| 439853 |  0.01 | 14 | 20 | 5 |        0 |\n| 439853 |  0.01 | 14 | 20 | 7 |        0 |\n| 439853 |  0.50 | 14 | 20 | 3 |        0 |\n| 439853 |  0.50 | 14 | 20 | 5 |        0 |\n| 439853 |  0.50 | 14 | 20 | 7 |        0 |\n| 439853 |  0.30 | 14 | 20 | 3 |        0 |\n| 439853 |  0.30 | 14 | 20 | 5 |        0 |\n| 439853 |  0.30 | 14 | 20 | 7 |        0 |\n| 439853 | -0.50 | 14 | 10 | 3 | 26870000 |\n| 439853 | -0.50 | 14 | 10 | 5 | 25060000 |\n| 439853 | -0.50 | 14 | 10 | 7 | 31380000 |\n| 439853 |  0.01 | 14 | 10 | 3 |        0 |\n| 439853 |  0.01 | 14 | 10 | 5 |        0 |\n| 439853 |  0.01 | 14 | 10 | 7 |        0 |\n| 439853 |  0.50 | 14 | 10 | 3 |        0 |\n| 439853 |  0.50 | 14 | 10 | 5 |        0 |\n| 439853 |  0.50 | 14 | 10 | 7 |        0 |\n| 439853 |  0.30 | 14 | 10 | 3 |        0 |\n| 439853 |  0.30 | 14 | 10 | 5 |        0 |\n| 439853 |  0.30 | 14 | 10 | 7 |        0 |\n\n",
            "text/latex": "A data.table: 648 × 6\n\\begin{tabular}{llllll}\n semilla & cp & maxdepth & minsplit & minbucket & ganancia\\_test\\\\\n <int> & <dbl> & <dbl> & <dbl> & <dbl> & <dbl>\\\\\n\\hline\n\t 439853 & -0.50 & 4 & 1000 & 3 & 46850000\\\\\n\t 439853 & -0.50 & 4 & 1000 & 5 & 46850000\\\\\n\t 439853 & -0.50 & 4 & 1000 & 7 & 46850000\\\\\n\t 439853 &  0.01 & 4 & 1000 & 3 &        0\\\\\n\t 439853 &  0.01 & 4 & 1000 & 5 &        0\\\\\n\t 439853 &  0.01 & 4 & 1000 & 7 &        0\\\\\n\t 439853 &  0.50 & 4 & 1000 & 3 &        0\\\\\n\t 439853 &  0.50 & 4 & 1000 & 5 &        0\\\\\n\t 439853 &  0.50 & 4 & 1000 & 7 &        0\\\\\n\t 439853 &  0.30 & 4 & 1000 & 3 &        0\\\\\n\t 439853 &  0.30 & 4 & 1000 & 5 &        0\\\\\n\t 439853 &  0.30 & 4 & 1000 & 7 &        0\\\\\n\t 439853 & -0.50 & 4 &  800 & 3 & 46850000\\\\\n\t 439853 & -0.50 & 4 &  800 & 5 & 46850000\\\\\n\t 439853 & -0.50 & 4 &  800 & 7 & 46850000\\\\\n\t 439853 &  0.01 & 4 &  800 & 3 &        0\\\\\n\t 439853 &  0.01 & 4 &  800 & 5 &        0\\\\\n\t 439853 &  0.01 & 4 &  800 & 7 &        0\\\\\n\t 439853 &  0.50 & 4 &  800 & 3 &        0\\\\\n\t 439853 &  0.50 & 4 &  800 & 5 &        0\\\\\n\t 439853 &  0.50 & 4 &  800 & 7 &        0\\\\\n\t 439853 &  0.30 & 4 &  800 & 3 &        0\\\\\n\t 439853 &  0.30 & 4 &  800 & 5 &        0\\\\\n\t 439853 &  0.30 & 4 &  800 & 7 &        0\\\\\n\t 439853 & -0.50 & 4 &  600 & 3 & 46850000\\\\\n\t 439853 & -0.50 & 4 &  600 & 5 & 46850000\\\\\n\t 439853 & -0.50 & 4 &  600 & 7 & 46850000\\\\\n\t 439853 &  0.01 & 4 &  600 & 3 &        0\\\\\n\t 439853 &  0.01 & 4 &  600 & 5 &        0\\\\\n\t 439853 &  0.01 & 4 &  600 & 7 &        0\\\\\n\t ⋮ & ⋮ & ⋮ & ⋮ & ⋮ & ⋮\\\\\n\t 439853 &  0.50 & 14 & 50 & 3 &        0\\\\\n\t 439853 &  0.50 & 14 & 50 & 5 &        0\\\\\n\t 439853 &  0.50 & 14 & 50 & 7 &        0\\\\\n\t 439853 &  0.30 & 14 & 50 & 3 &        0\\\\\n\t 439853 &  0.30 & 14 & 50 & 5 &        0\\\\\n\t 439853 &  0.30 & 14 & 50 & 7 &        0\\\\\n\t 439853 & -0.50 & 14 & 20 & 3 & 31540000\\\\\n\t 439853 & -0.50 & 14 & 20 & 5 & 30480000\\\\\n\t 439853 & -0.50 & 14 & 20 & 7 & 34930000\\\\\n\t 439853 &  0.01 & 14 & 20 & 3 &        0\\\\\n\t 439853 &  0.01 & 14 & 20 & 5 &        0\\\\\n\t 439853 &  0.01 & 14 & 20 & 7 &        0\\\\\n\t 439853 &  0.50 & 14 & 20 & 3 &        0\\\\\n\t 439853 &  0.50 & 14 & 20 & 5 &        0\\\\\n\t 439853 &  0.50 & 14 & 20 & 7 &        0\\\\\n\t 439853 &  0.30 & 14 & 20 & 3 &        0\\\\\n\t 439853 &  0.30 & 14 & 20 & 5 &        0\\\\\n\t 439853 &  0.30 & 14 & 20 & 7 &        0\\\\\n\t 439853 & -0.50 & 14 & 10 & 3 & 26870000\\\\\n\t 439853 & -0.50 & 14 & 10 & 5 & 25060000\\\\\n\t 439853 & -0.50 & 14 & 10 & 7 & 31380000\\\\\n\t 439853 &  0.01 & 14 & 10 & 3 &        0\\\\\n\t 439853 &  0.01 & 14 & 10 & 5 &        0\\\\\n\t 439853 &  0.01 & 14 & 10 & 7 &        0\\\\\n\t 439853 &  0.50 & 14 & 10 & 3 &        0\\\\\n\t 439853 &  0.50 & 14 & 10 & 5 &        0\\\\\n\t 439853 &  0.50 & 14 & 10 & 7 &        0\\\\\n\t 439853 &  0.30 & 14 & 10 & 3 &        0\\\\\n\t 439853 &  0.30 & 14 & 10 & 5 &        0\\\\\n\t 439853 &  0.30 & 14 & 10 & 7 &        0\\\\\n\\end{tabular}\n",
            "text/plain": [
              "    semilla cp    maxdepth minsplit minbucket ganancia_test\n",
              "1   439853  -0.50 4        1000     3         46850000     \n",
              "2   439853  -0.50 4        1000     5         46850000     \n",
              "3   439853  -0.50 4        1000     7         46850000     \n",
              "4   439853   0.01 4        1000     3                0     \n",
              "5   439853   0.01 4        1000     5                0     \n",
              "6   439853   0.01 4        1000     7                0     \n",
              "7   439853   0.50 4        1000     3                0     \n",
              "8   439853   0.50 4        1000     5                0     \n",
              "9   439853   0.50 4        1000     7                0     \n",
              "10  439853   0.30 4        1000     3                0     \n",
              "11  439853   0.30 4        1000     5                0     \n",
              "12  439853   0.30 4        1000     7                0     \n",
              "13  439853  -0.50 4         800     3         46850000     \n",
              "14  439853  -0.50 4         800     5         46850000     \n",
              "15  439853  -0.50 4         800     7         46850000     \n",
              "16  439853   0.01 4         800     3                0     \n",
              "17  439853   0.01 4         800     5                0     \n",
              "18  439853   0.01 4         800     7                0     \n",
              "19  439853   0.50 4         800     3                0     \n",
              "20  439853   0.50 4         800     5                0     \n",
              "21  439853   0.50 4         800     7                0     \n",
              "22  439853   0.30 4         800     3                0     \n",
              "23  439853   0.30 4         800     5                0     \n",
              "24  439853   0.30 4         800     7                0     \n",
              "25  439853  -0.50 4         600     3         46850000     \n",
              "26  439853  -0.50 4         600     5         46850000     \n",
              "27  439853  -0.50 4         600     7         46850000     \n",
              "28  439853   0.01 4         600     3                0     \n",
              "29  439853   0.01 4         600     5                0     \n",
              "30  439853   0.01 4         600     7                0     \n",
              "⋮   ⋮       ⋮     ⋮        ⋮        ⋮         ⋮            \n",
              "619 439853   0.50 14       50       3                0     \n",
              "620 439853   0.50 14       50       5                0     \n",
              "621 439853   0.50 14       50       7                0     \n",
              "622 439853   0.30 14       50       3                0     \n",
              "623 439853   0.30 14       50       5                0     \n",
              "624 439853   0.30 14       50       7                0     \n",
              "625 439853  -0.50 14       20       3         31540000     \n",
              "626 439853  -0.50 14       20       5         30480000     \n",
              "627 439853  -0.50 14       20       7         34930000     \n",
              "628 439853   0.01 14       20       3                0     \n",
              "629 439853   0.01 14       20       5                0     \n",
              "630 439853   0.01 14       20       7                0     \n",
              "631 439853   0.50 14       20       3                0     \n",
              "632 439853   0.50 14       20       5                0     \n",
              "633 439853   0.50 14       20       7                0     \n",
              "634 439853   0.30 14       20       3                0     \n",
              "635 439853   0.30 14       20       5                0     \n",
              "636 439853   0.30 14       20       7                0     \n",
              "637 439853  -0.50 14       10       3         26870000     \n",
              "638 439853  -0.50 14       10       5         25060000     \n",
              "639 439853  -0.50 14       10       7         31380000     \n",
              "640 439853   0.01 14       10       3                0     \n",
              "641 439853   0.01 14       10       5                0     \n",
              "642 439853   0.01 14       10       7                0     \n",
              "643 439853   0.50 14       10       3                0     \n",
              "644 439853   0.50 14       10       5                0     \n",
              "645 439853   0.50 14       10       7                0     \n",
              "646 439853   0.30 14       10       3                0     \n",
              "647 439853   0.30 14       10       5                0     \n",
              "648 439853   0.30 14       10       7                0     "
            ]
          },
          "metadata": {}
        }
      ]
    },
    {
      "cell_type": "code",
      "source": [
        "# genero y grabo el resumen\n",
        "tb_grid_search <- tb_grid_search_detalle[,\n",
        "  list( \"ganancia_mean\" = mean(ganancia_test),\n",
        "    \"qty\" = .N ),\n",
        "  list( cp, maxdepth, minsplit, minbucket )\n",
        "]\n"
      ],
      "metadata": {
        "id": "DjCxtx8bIsgl"
      },
      "execution_count": null,
      "outputs": []
    },
    {
      "cell_type": "code",
      "source": [
        "# ordeno descendente por ganancia\n",
        "setorder( tb_grid_search, -ganancia_mean )\n"
      ],
      "metadata": {
        "id": "LU29UhL1Ivg5"
      },
      "execution_count": null,
      "outputs": []
    },
    {
      "cell_type": "code",
      "source": [
        "# veo los 10 mejores hiperparámetros\n",
        "tb_grid_search[1:10]"
      ],
      "metadata": {
        "id": "g-EjGY7aIyWL",
        "outputId": "7e6d2d32-68ed-4126-d680-2d82129a8b69",
        "colab": {
          "base_uri": "https://localhost:8080/",
          "height": 412
        }
      },
      "execution_count": null,
      "outputs": [
        {
          "output_type": "display_data",
          "data": {
            "text/html": [
              "<table class=\"dataframe\">\n",
              "<caption>A data.table: 10 × 6</caption>\n",
              "<thead>\n",
              "\t<tr><th scope=col>cp</th><th scope=col>maxdepth</th><th scope=col>minsplit</th><th scope=col>minbucket</th><th scope=col>ganancia_mean</th><th scope=col>qty</th></tr>\n",
              "\t<tr><th scope=col>&lt;dbl&gt;</th><th scope=col>&lt;dbl&gt;</th><th scope=col>&lt;dbl&gt;</th><th scope=col>&lt;dbl&gt;</th><th scope=col>&lt;dbl&gt;</th><th scope=col>&lt;int&gt;</th></tr>\n",
              "</thead>\n",
              "<tbody>\n",
              "\t<tr><td>-0.5</td><td>12</td><td> 200</td><td>7</td><td>49960000</td><td>1</td></tr>\n",
              "\t<tr><td>-0.5</td><td> 8</td><td> 200</td><td>7</td><td>49870000</td><td>1</td></tr>\n",
              "\t<tr><td>-0.5</td><td> 8</td><td>1000</td><td>7</td><td>49850000</td><td>1</td></tr>\n",
              "\t<tr><td>-0.5</td><td> 8</td><td> 800</td><td>7</td><td>49850000</td><td>1</td></tr>\n",
              "\t<tr><td>-0.5</td><td> 8</td><td> 600</td><td>7</td><td>49850000</td><td>1</td></tr>\n",
              "\t<tr><td>-0.5</td><td> 8</td><td> 400</td><td>7</td><td>49850000</td><td>1</td></tr>\n",
              "\t<tr><td>-0.5</td><td>12</td><td> 600</td><td>3</td><td>49760000</td><td>1</td></tr>\n",
              "\t<tr><td>-0.5</td><td>12</td><td> 200</td><td>5</td><td>49560000</td><td>1</td></tr>\n",
              "\t<tr><td>-0.5</td><td>10</td><td>1000</td><td>7</td><td>49540000</td><td>1</td></tr>\n",
              "\t<tr><td>-0.5</td><td>10</td><td> 800</td><td>7</td><td>49520000</td><td>1</td></tr>\n",
              "</tbody>\n",
              "</table>\n"
            ],
            "text/markdown": "\nA data.table: 10 × 6\n\n| cp &lt;dbl&gt; | maxdepth &lt;dbl&gt; | minsplit &lt;dbl&gt; | minbucket &lt;dbl&gt; | ganancia_mean &lt;dbl&gt; | qty &lt;int&gt; |\n|---|---|---|---|---|---|\n| -0.5 | 12 |  200 | 7 | 49960000 | 1 |\n| -0.5 |  8 |  200 | 7 | 49870000 | 1 |\n| -0.5 |  8 | 1000 | 7 | 49850000 | 1 |\n| -0.5 |  8 |  800 | 7 | 49850000 | 1 |\n| -0.5 |  8 |  600 | 7 | 49850000 | 1 |\n| -0.5 |  8 |  400 | 7 | 49850000 | 1 |\n| -0.5 | 12 |  600 | 3 | 49760000 | 1 |\n| -0.5 | 12 |  200 | 5 | 49560000 | 1 |\n| -0.5 | 10 | 1000 | 7 | 49540000 | 1 |\n| -0.5 | 10 |  800 | 7 | 49520000 | 1 |\n\n",
            "text/latex": "A data.table: 10 × 6\n\\begin{tabular}{llllll}\n cp & maxdepth & minsplit & minbucket & ganancia\\_mean & qty\\\\\n <dbl> & <dbl> & <dbl> & <dbl> & <dbl> & <int>\\\\\n\\hline\n\t -0.5 & 12 &  200 & 7 & 49960000 & 1\\\\\n\t -0.5 &  8 &  200 & 7 & 49870000 & 1\\\\\n\t -0.5 &  8 & 1000 & 7 & 49850000 & 1\\\\\n\t -0.5 &  8 &  800 & 7 & 49850000 & 1\\\\\n\t -0.5 &  8 &  600 & 7 & 49850000 & 1\\\\\n\t -0.5 &  8 &  400 & 7 & 49850000 & 1\\\\\n\t -0.5 & 12 &  600 & 3 & 49760000 & 1\\\\\n\t -0.5 & 12 &  200 & 5 & 49560000 & 1\\\\\n\t -0.5 & 10 & 1000 & 7 & 49540000 & 1\\\\\n\t -0.5 & 10 &  800 & 7 & 49520000 & 1\\\\\n\\end{tabular}\n",
            "text/plain": [
              "   cp   maxdepth minsplit minbucket ganancia_mean qty\n",
              "1  -0.5 12        200     7         49960000      1  \n",
              "2  -0.5  8        200     7         49870000      1  \n",
              "3  -0.5  8       1000     7         49850000      1  \n",
              "4  -0.5  8        800     7         49850000      1  \n",
              "5  -0.5  8        600     7         49850000      1  \n",
              "6  -0.5  8        400     7         49850000      1  \n",
              "7  -0.5 12        600     3         49760000      1  \n",
              "8  -0.5 12        200     5         49560000      1  \n",
              "9  -0.5 10       1000     7         49540000      1  \n",
              "10 -0.5 10        800     7         49520000      1  "
            ]
          },
          "metadata": {}
        }
      ]
    },
    {
      "cell_type": "code",
      "source": [
        "# genero un id a la tabla\n",
        "tb_grid_search[, id := .I ]\n",
        "\n",
        "fwrite( tb_grid_search,\n",
        "  file = \"gridsearch.txt\",\n",
        "  sep = \"\\t\"\n",
        ")\n"
      ],
      "metadata": {
        "id": "K3S-I2PTI5ZE"
      },
      "execution_count": null,
      "outputs": []
    },
    {
      "cell_type": "markdown",
      "source": [
        "# 4.  Análisis de resultados de Grid Search"
      ],
      "metadata": {
        "id": "1rYHk1YkI_9k"
      }
    },
    {
      "cell_type": "markdown",
      "source": [
        "La salida de la corrida anterior queda en ~/buckets/b1/exp/HT2900  que corresponde a su Google Drive\n",
        "<br>HT significa Hyperparameter Tuning\n",
        "<br>El Grid Search es un método de fuerza bruta de un altísimo costo computacional.\n",
        "<br>Queremos ver si es posible crear un algoritmo de optimización de hiperparámetros que se ahorre recorrer ciertas porciones muy malas del espacio de búsqueda. Algo del estilo “cada vez que pruebo una combinación de hiperparámetros donde  cp > 1 , la ganancia es muy mala, con lo cual ni vale la pena perder el tiempo explorando en esa region”\n"
      ],
      "metadata": {
        "id": "ZTJgPhMWJHTk"
      }
    },
    {
      "cell_type": "markdown",
      "source": [
        "<br>Levante el archivo de salida gridsearch.txt  a una planilla tipo Excel y analícelo detenidamente\n",
        "<br>Ordene por ganancia_mean descendente\n",
        "<br>\n",
        "<br>El de mayor ganancia_mean  decimos que es el primero del ranking\n",
        "En Zulip, correspondiente channel  #Tarea Hogar 02 , topic Analisis Grid Search   intente contestar estas preguntas:\n",
        "\n",
        "* ¿Qué combinaciones de hiperparámetros poseen una ganancia muy buena?\n",
        "* ¿Hay algun hiperparámetro que para cierto valor siempre genera una ganancia muy mala, a independientemente de lo que valgan los otros hiperparámetros ?\n",
        "* ¿Que combinaciones de hiperparámetros es pésima y hubiera sido bueno ahorrarse esas corridas ?\n",
        "\n",
        "( tiempo estimado 30 minutos, dificultad media )"
      ],
      "metadata": {
        "id": "IaVgMu4tPwyB"
      }
    }
  ]
}